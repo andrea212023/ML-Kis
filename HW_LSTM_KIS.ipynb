{
  "nbformat": 4,
  "nbformat_minor": 0,
  "metadata": {
    "colab": {
      "provenance": [],
      "include_colab_link": true
    },
    "kernelspec": {
      "name": "python3",
      "display_name": "Python 3"
    },
    "language_info": {
      "name": "python"
    }
  },
  "cells": [
    {
      "cell_type": "markdown",
      "metadata": {
        "id": "view-in-github",
        "colab_type": "text"
      },
      "source": [
        "<a href=\"https://colab.research.google.com/github/andrea212023/ML-Kis/blob/main/HW_LSTM_KIS.ipynb\" target=\"_parent\"><img src=\"https://colab.research.google.com/assets/colab-badge.svg\" alt=\"Open In Colab\"/></a>"
      ]
    },
    {
      "cell_type": "markdown",
      "source": [
        "Давайте подивимося, як LSTM можна використовувати для побудови нейронної мережі прогнозування часових.\n",
        "\n",
        "Будемо працювати з задачею прогнозування кількості пасажирів міжнародних авіаліній. З цим набором даних ми вже працювали в лекції \"Time Series Analysis\" і ви зможете порівняти результати :)\n",
        "\n",
        "Задача полягає в тому, щоб за заданими роком і місяцем передбачити кількість пасажирів міжнародних авіаліній в одиницях виміру 1,000. Дані охоплюють період з січня 1949 року по грудень 1960 року, тобто 12 років, зі 144 спостереженнями.\n",
        "\n",
        "Це регресійна задача. Тобто, знаючи кількість пасажирів (в тисячах) за останні місяці, можна передбачити, якою буде кількість пасажирів у наступному місяці. Набір даних має лише одну характеристику: \"Кількість пасажирів\" - `Passengers`.\n",
        "\n",
        "Далі вже наведений код для читання даних, але нам їх ще треба буде трошки обробити."
      ],
      "metadata": {
        "id": "QVNVsLwJvV9S"
      }
    },
    {
      "cell_type": "code",
      "source": [
        "import pandas as pd\n",
        "import numpy as np\n",
        "import math\n",
        "import matplotlib.pyplot as plt\n",
        "\n",
        "import torch\n",
        "import torch.nn as nn\n",
        "import torch.optim as optim\n",
        "from torch.utils.data import DataLoader, TensorDataset"
      ],
      "metadata": {
        "id": "8aJZkbq1d7_X"
      },
      "execution_count": 23,
      "outputs": []
    },
    {
      "cell_type": "code",
      "execution_count": 24,
      "metadata": {
        "id": "hw3dGYsyluYm",
        "colab": {
          "base_uri": "https://localhost:8080/",
          "height": 235
        },
        "outputId": "c35f2de6-ab4b-4fe7-9d4f-b725e706ef68"
      },
      "outputs": [
        {
          "output_type": "display_data",
          "data": {
            "text/plain": [
              "         Passengers\n",
              "Month              \n",
              "1949-01         112\n",
              "1949-02         118\n",
              "1949-03         132\n",
              "1949-04         129\n",
              "1949-05         121"
            ],
            "text/html": [
              "\n",
              "  <div id=\"df-8f09a3c4-8b39-424c-8979-b524dd9b4c25\" class=\"colab-df-container\">\n",
              "    <div>\n",
              "<style scoped>\n",
              "    .dataframe tbody tr th:only-of-type {\n",
              "        vertical-align: middle;\n",
              "    }\n",
              "\n",
              "    .dataframe tbody tr th {\n",
              "        vertical-align: top;\n",
              "    }\n",
              "\n",
              "    .dataframe thead th {\n",
              "        text-align: right;\n",
              "    }\n",
              "</style>\n",
              "<table border=\"1\" class=\"dataframe\">\n",
              "  <thead>\n",
              "    <tr style=\"text-align: right;\">\n",
              "      <th></th>\n",
              "      <th>Passengers</th>\n",
              "    </tr>\n",
              "    <tr>\n",
              "      <th>Month</th>\n",
              "      <th></th>\n",
              "    </tr>\n",
              "  </thead>\n",
              "  <tbody>\n",
              "    <tr>\n",
              "      <th>1949-01</th>\n",
              "      <td>112</td>\n",
              "    </tr>\n",
              "    <tr>\n",
              "      <th>1949-02</th>\n",
              "      <td>118</td>\n",
              "    </tr>\n",
              "    <tr>\n",
              "      <th>1949-03</th>\n",
              "      <td>132</td>\n",
              "    </tr>\n",
              "    <tr>\n",
              "      <th>1949-04</th>\n",
              "      <td>129</td>\n",
              "    </tr>\n",
              "    <tr>\n",
              "      <th>1949-05</th>\n",
              "      <td>121</td>\n",
              "    </tr>\n",
              "  </tbody>\n",
              "</table>\n",
              "</div>\n",
              "    <div class=\"colab-df-buttons\">\n",
              "\n",
              "  <div class=\"colab-df-container\">\n",
              "    <button class=\"colab-df-convert\" onclick=\"convertToInteractive('df-8f09a3c4-8b39-424c-8979-b524dd9b4c25')\"\n",
              "            title=\"Convert this dataframe to an interactive table.\"\n",
              "            style=\"display:none;\">\n",
              "\n",
              "  <svg xmlns=\"http://www.w3.org/2000/svg\" height=\"24px\" viewBox=\"0 -960 960 960\">\n",
              "    <path d=\"M120-120v-720h720v720H120Zm60-500h600v-160H180v160Zm220 220h160v-160H400v160Zm0 220h160v-160H400v160ZM180-400h160v-160H180v160Zm440 0h160v-160H620v160ZM180-180h160v-160H180v160Zm440 0h160v-160H620v160Z\"/>\n",
              "  </svg>\n",
              "    </button>\n",
              "\n",
              "  <style>\n",
              "    .colab-df-container {\n",
              "      display:flex;\n",
              "      gap: 12px;\n",
              "    }\n",
              "\n",
              "    .colab-df-convert {\n",
              "      background-color: #E8F0FE;\n",
              "      border: none;\n",
              "      border-radius: 50%;\n",
              "      cursor: pointer;\n",
              "      display: none;\n",
              "      fill: #1967D2;\n",
              "      height: 32px;\n",
              "      padding: 0 0 0 0;\n",
              "      width: 32px;\n",
              "    }\n",
              "\n",
              "    .colab-df-convert:hover {\n",
              "      background-color: #E2EBFA;\n",
              "      box-shadow: 0px 1px 2px rgba(60, 64, 67, 0.3), 0px 1px 3px 1px rgba(60, 64, 67, 0.15);\n",
              "      fill: #174EA6;\n",
              "    }\n",
              "\n",
              "    .colab-df-buttons div {\n",
              "      margin-bottom: 4px;\n",
              "    }\n",
              "\n",
              "    [theme=dark] .colab-df-convert {\n",
              "      background-color: #3B4455;\n",
              "      fill: #D2E3FC;\n",
              "    }\n",
              "\n",
              "    [theme=dark] .colab-df-convert:hover {\n",
              "      background-color: #434B5C;\n",
              "      box-shadow: 0px 1px 3px 1px rgba(0, 0, 0, 0.15);\n",
              "      filter: drop-shadow(0px 1px 2px rgba(0, 0, 0, 0.3));\n",
              "      fill: #FFFFFF;\n",
              "    }\n",
              "  </style>\n",
              "\n",
              "    <script>\n",
              "      const buttonEl =\n",
              "        document.querySelector('#df-8f09a3c4-8b39-424c-8979-b524dd9b4c25 button.colab-df-convert');\n",
              "      buttonEl.style.display =\n",
              "        google.colab.kernel.accessAllowed ? 'block' : 'none';\n",
              "\n",
              "      async function convertToInteractive(key) {\n",
              "        const element = document.querySelector('#df-8f09a3c4-8b39-424c-8979-b524dd9b4c25');\n",
              "        const dataTable =\n",
              "          await google.colab.kernel.invokeFunction('convertToInteractive',\n",
              "                                                    [key], {});\n",
              "        if (!dataTable) return;\n",
              "\n",
              "        const docLinkHtml = 'Like what you see? Visit the ' +\n",
              "          '<a target=\"_blank\" href=https://colab.research.google.com/notebooks/data_table.ipynb>data table notebook</a>'\n",
              "          + ' to learn more about interactive tables.';\n",
              "        element.innerHTML = '';\n",
              "        dataTable['output_type'] = 'display_data';\n",
              "        await google.colab.output.renderOutput(dataTable, element);\n",
              "        const docLink = document.createElement('div');\n",
              "        docLink.innerHTML = docLinkHtml;\n",
              "        element.appendChild(docLink);\n",
              "      }\n",
              "    </script>\n",
              "  </div>\n",
              "\n",
              "\n",
              "<div id=\"df-8860bfb5-d8ed-4bdf-95db-24329f39d6c7\">\n",
              "  <button class=\"colab-df-quickchart\" onclick=\"quickchart('df-8860bfb5-d8ed-4bdf-95db-24329f39d6c7')\"\n",
              "            title=\"Suggest charts\"\n",
              "            style=\"display:none;\">\n",
              "\n",
              "<svg xmlns=\"http://www.w3.org/2000/svg\" height=\"24px\"viewBox=\"0 0 24 24\"\n",
              "     width=\"24px\">\n",
              "    <g>\n",
              "        <path d=\"M19 3H5c-1.1 0-2 .9-2 2v14c0 1.1.9 2 2 2h14c1.1 0 2-.9 2-2V5c0-1.1-.9-2-2-2zM9 17H7v-7h2v7zm4 0h-2V7h2v10zm4 0h-2v-4h2v4z\"/>\n",
              "    </g>\n",
              "</svg>\n",
              "  </button>\n",
              "\n",
              "<style>\n",
              "  .colab-df-quickchart {\n",
              "      --bg-color: #E8F0FE;\n",
              "      --fill-color: #1967D2;\n",
              "      --hover-bg-color: #E2EBFA;\n",
              "      --hover-fill-color: #174EA6;\n",
              "      --disabled-fill-color: #AAA;\n",
              "      --disabled-bg-color: #DDD;\n",
              "  }\n",
              "\n",
              "  [theme=dark] .colab-df-quickchart {\n",
              "      --bg-color: #3B4455;\n",
              "      --fill-color: #D2E3FC;\n",
              "      --hover-bg-color: #434B5C;\n",
              "      --hover-fill-color: #FFFFFF;\n",
              "      --disabled-bg-color: #3B4455;\n",
              "      --disabled-fill-color: #666;\n",
              "  }\n",
              "\n",
              "  .colab-df-quickchart {\n",
              "    background-color: var(--bg-color);\n",
              "    border: none;\n",
              "    border-radius: 50%;\n",
              "    cursor: pointer;\n",
              "    display: none;\n",
              "    fill: var(--fill-color);\n",
              "    height: 32px;\n",
              "    padding: 0;\n",
              "    width: 32px;\n",
              "  }\n",
              "\n",
              "  .colab-df-quickchart:hover {\n",
              "    background-color: var(--hover-bg-color);\n",
              "    box-shadow: 0 1px 2px rgba(60, 64, 67, 0.3), 0 1px 3px 1px rgba(60, 64, 67, 0.15);\n",
              "    fill: var(--button-hover-fill-color);\n",
              "  }\n",
              "\n",
              "  .colab-df-quickchart-complete:disabled,\n",
              "  .colab-df-quickchart-complete:disabled:hover {\n",
              "    background-color: var(--disabled-bg-color);\n",
              "    fill: var(--disabled-fill-color);\n",
              "    box-shadow: none;\n",
              "  }\n",
              "\n",
              "  .colab-df-spinner {\n",
              "    border: 2px solid var(--fill-color);\n",
              "    border-color: transparent;\n",
              "    border-bottom-color: var(--fill-color);\n",
              "    animation:\n",
              "      spin 1s steps(1) infinite;\n",
              "  }\n",
              "\n",
              "  @keyframes spin {\n",
              "    0% {\n",
              "      border-color: transparent;\n",
              "      border-bottom-color: var(--fill-color);\n",
              "      border-left-color: var(--fill-color);\n",
              "    }\n",
              "    20% {\n",
              "      border-color: transparent;\n",
              "      border-left-color: var(--fill-color);\n",
              "      border-top-color: var(--fill-color);\n",
              "    }\n",
              "    30% {\n",
              "      border-color: transparent;\n",
              "      border-left-color: var(--fill-color);\n",
              "      border-top-color: var(--fill-color);\n",
              "      border-right-color: var(--fill-color);\n",
              "    }\n",
              "    40% {\n",
              "      border-color: transparent;\n",
              "      border-right-color: var(--fill-color);\n",
              "      border-top-color: var(--fill-color);\n",
              "    }\n",
              "    60% {\n",
              "      border-color: transparent;\n",
              "      border-right-color: var(--fill-color);\n",
              "    }\n",
              "    80% {\n",
              "      border-color: transparent;\n",
              "      border-right-color: var(--fill-color);\n",
              "      border-bottom-color: var(--fill-color);\n",
              "    }\n",
              "    90% {\n",
              "      border-color: transparent;\n",
              "      border-bottom-color: var(--fill-color);\n",
              "    }\n",
              "  }\n",
              "</style>\n",
              "\n",
              "  <script>\n",
              "    async function quickchart(key) {\n",
              "      const quickchartButtonEl =\n",
              "        document.querySelector('#' + key + ' button');\n",
              "      quickchartButtonEl.disabled = true;  // To prevent multiple clicks.\n",
              "      quickchartButtonEl.classList.add('colab-df-spinner');\n",
              "      try {\n",
              "        const charts = await google.colab.kernel.invokeFunction(\n",
              "            'suggestCharts', [key], {});\n",
              "      } catch (error) {\n",
              "        console.error('Error during call to suggestCharts:', error);\n",
              "      }\n",
              "      quickchartButtonEl.classList.remove('colab-df-spinner');\n",
              "      quickchartButtonEl.classList.add('colab-df-quickchart-complete');\n",
              "    }\n",
              "    (() => {\n",
              "      let quickchartButtonEl =\n",
              "        document.querySelector('#df-8860bfb5-d8ed-4bdf-95db-24329f39d6c7 button');\n",
              "      quickchartButtonEl.style.display =\n",
              "        google.colab.kernel.accessAllowed ? 'block' : 'none';\n",
              "    })();\n",
              "  </script>\n",
              "</div>\n",
              "\n",
              "    </div>\n",
              "  </div>\n"
            ],
            "application/vnd.google.colaboratory.intrinsic+json": {
              "type": "dataframe",
              "summary": "{\n  \"name\": \"display(df\",\n  \"rows\": 5,\n  \"fields\": [\n    {\n      \"column\": \"Month\",\n      \"properties\": {\n        \"dtype\": \"object\",\n        \"num_unique_values\": 5,\n        \"samples\": [\n          \"1949-02\",\n          \"1949-05\",\n          \"1949-03\"\n        ],\n        \"semantic_type\": \"\",\n        \"description\": \"\"\n      }\n    },\n    {\n      \"column\": \"Passengers\",\n      \"properties\": {\n        \"dtype\": \"number\",\n        \"std\": 8,\n        \"min\": 112,\n        \"max\": 132,\n        \"num_unique_values\": 5,\n        \"samples\": [\n          118,\n          121,\n          132\n        ],\n        \"semantic_type\": \"\",\n        \"description\": \"\"\n      }\n    }\n  ]\n}"
            }
          },
          "metadata": {}
        }
      ],
      "source": [
        "# Loading the data\n",
        "url = \"https://raw.githubusercontent.com/jbrownlee/Datasets/master/airline-passengers.csv\"\n",
        "df = pd.read_csv(url)\n",
        "df.set_index('Month', inplace=True)\n",
        "display(df.head())"
      ]
    },
    {
      "cell_type": "markdown",
      "source": [
        "**Завдання 1.** Створіть змінну типу `numpy.ndarray`, яка містить значення кількості пасажирів в форматі `float32`. Такий формат даних нам треба для тренування нейромережі."
      ],
      "metadata": {
        "id": "BCcNvF28wSH3"
      }
    },
    {
      "cell_type": "code",
      "source": [
        "# Converting the Passengers column to a numpy array of type float32\n",
        "passengers_array = np.array(df['Passengers'], dtype=np.float32)\n",
        "\n",
        "# Checking the result\n",
        "print(passengers_array)\n",
        "print(passengers_array.dtype)"
      ],
      "metadata": {
        "id": "7PcJkPAoBOH5",
        "colab": {
          "base_uri": "https://localhost:8080/"
        },
        "outputId": "1ad40b38-ec4f-4a4b-b44f-f6558ab3eef1"
      },
      "execution_count": 25,
      "outputs": [
        {
          "output_type": "stream",
          "name": "stdout",
          "text": [
            "[112. 118. 132. 129. 121. 135. 148. 148. 136. 119. 104. 118. 115. 126.\n",
            " 141. 135. 125. 149. 170. 170. 158. 133. 114. 140. 145. 150. 178. 163.\n",
            " 172. 178. 199. 199. 184. 162. 146. 166. 171. 180. 193. 181. 183. 218.\n",
            " 230. 242. 209. 191. 172. 194. 196. 196. 236. 235. 229. 243. 264. 272.\n",
            " 237. 211. 180. 201. 204. 188. 235. 227. 234. 264. 302. 293. 259. 229.\n",
            " 203. 229. 242. 233. 267. 269. 270. 315. 364. 347. 312. 274. 237. 278.\n",
            " 284. 277. 317. 313. 318. 374. 413. 405. 355. 306. 271. 306. 315. 301.\n",
            " 356. 348. 355. 422. 465. 467. 404. 347. 305. 336. 340. 318. 362. 348.\n",
            " 363. 435. 491. 505. 404. 359. 310. 337. 360. 342. 406. 396. 420. 472.\n",
            " 548. 559. 463. 407. 362. 405. 417. 391. 419. 461. 472. 535. 622. 606.\n",
            " 508. 461. 390. 432.]\n",
            "float32\n"
          ]
        }
      ]
    },
    {
      "cell_type": "markdown",
      "source": [
        "Очікуваний результат:\n",
        "```array([112., 118., 132., 129., 121.], dtype=float32)```"
      ],
      "metadata": {
        "id": "Vms2Pxp1xCrB"
      }
    },
    {
      "cell_type": "markdown",
      "source": [
        "**Завдання 2**. Розбийте дані на тренувальні і валідаційні у співвідношенні 67% йде у тренування, 33 - у валідацію. Памʼятаємо, що ми працюємо з tim series, відповідно, навчаємось на давніших, валідуємось - на новіших."
      ],
      "metadata": {
        "id": "vESTxq-OxLRK"
      }
    },
    {
      "cell_type": "code",
      "source": [
        "# Determine the index to split the data\n",
        "split_index = int(len(passengers_array) * 0.67)\n",
        "\n",
        "# Split the data into training and validation sets\n",
        "train_data = passengers_array[:split_index]\n",
        "val_data = passengers_array[split_index:]\n",
        "\n",
        "# Display the sizes of the training and validation sets\n",
        "print(f\"Training data size: {len(train_data)}\")\n",
        "print(f\"Validation data size: {len(val_data)}\")\n",
        "\n",
        "# Optionally, print the first few values of each set to verify\n",
        "print(\"Training data:\", train_data[:5])\n",
        "print(\"Validation data:\", val_data[:5])"
      ],
      "metadata": {
        "id": "USpGte_tBPR1",
        "colab": {
          "base_uri": "https://localhost:8080/"
        },
        "outputId": "fb0cd891-44d7-4948-f03a-0fa7094fea91"
      },
      "execution_count": 26,
      "outputs": [
        {
          "output_type": "stream",
          "name": "stdout",
          "text": [
            "Training data size: 96\n",
            "Validation data size: 48\n",
            "Training data: [112. 118. 132. 129. 121.]\n",
            "Validation data: [315. 301. 356. 348. 355.]\n"
          ]
        }
      ]
    },
    {
      "cell_type": "markdown",
      "source": [
        "**Завдання 3**.\n",
        "\n",
        "Реалізуйте функцію `create_dataset`, яка перетворить одномірний часовий ряд (набір даних) у формат, придатний для тренування нейромережі.\n",
        "\n",
        "Функція повинна приймати два аргументи:\n",
        "- `dataset` — numpy-масив часового ряду,\n",
        "- `lookback` — кількість попередніх кроків, які використовуватимуться для передбачення.\n",
        "\n",
        "Функція повинна повернути два **тензори** PyTorch:\n",
        "- `X` — набір ознак (вікно попередніх значень),\n",
        "- `y` — цільові значення (наступні після вікна кроки).\n",
        "\n",
        "Дані ми будемо подавати моделі в наступному форматі:\n",
        "`\n",
        "tensor([[112.],\n",
        "        [118.],\n",
        "        [132.],\n",
        "        [129.],\n",
        "        [121.]])\n",
        "`\n",
        "Відповідно першою розмірністю буде йти розмір вхідного батча, а другою - розмір вхіднизх даних і в нас це 1, бо лише одне значення на вході щоразу.\n",
        "\n",
        "Після виконання завдання запустіть код нижче. Ми будемо передбачати на основі кількості пасажирів в попередній день кількість пасажирів в наступний, тому `lookback == 1`."
      ],
      "metadata": {
        "id": "YB-e-vEDx3bn"
      }
    },
    {
      "cell_type": "code",
      "source": [
        "# Define the create_dataset function\n",
        "def create_dataset(dataset, lookback):\n",
        "    x, y = [], []\n",
        "\n",
        "    # Loop over the dataset to create windows of previous values and next value\n",
        "    for i in range(len(dataset) - lookback):\n",
        "        x.append(dataset[i:i+lookback])  # Create windows of 'lookback' size\n",
        "        y.append(dataset[i + lookback])  # Next value after the window\n",
        "\n",
        "    # Convert lists to PyTorch tensors\n",
        "    x = torch.tensor(x, dtype=torch.float32).unsqueeze(-1)  # Add an extra dimension\n",
        "    y = torch.tensor(y, dtype=torch.float32).unsqueeze(-1)\n",
        "\n",
        "    return x, y"
      ],
      "metadata": {
        "id": "s5UXOiAHBVwe"
      },
      "execution_count": 27,
      "outputs": []
    },
    {
      "cell_type": "code",
      "source": [
        "lookback = 1\n",
        "X_train, y_train = create_dataset(train_data, lookback=lookback)\n",
        "X_test, y_test = create_dataset(val_data, lookback=lookback)\n",
        "print(X_train.shape, y_train.shape)\n",
        "print(X_test.shape, y_test.shape)"
      ],
      "metadata": {
        "colab": {
          "base_uri": "https://localhost:8080/"
        },
        "id": "dA8FwOfwuPyl",
        "outputId": "b987dbc1-dc6e-40b0-8c5f-47d0f94a9a1b"
      },
      "execution_count": 28,
      "outputs": [
        {
          "output_type": "stream",
          "name": "stdout",
          "text": [
            "torch.Size([95, 1, 1]) torch.Size([95, 1])\n",
            "torch.Size([47, 1, 1]) torch.Size([47, 1])\n"
          ]
        }
      ]
    },
    {
      "cell_type": "markdown",
      "source": [
        "Очікуваний результат:\n",
        "```\n",
        "torch.Size([95, 1]) torch.Size([95, 1])\n",
        "torch.Size([47, 1]) torch.Size([47, 1])\n",
        "```"
      ],
      "metadata": {
        "id": "dvEA-D-SzcWf"
      }
    },
    {
      "cell_type": "markdown",
      "source": [
        "**Завдання 4**.\n",
        "\n",
        "Зверніть увагу на розмірності в попередньому завданні. Ми\n",
        "З допомогою модуля `torch.nn` опишіть клас `AirModel`, який є нейронною мережею для прогнозування кількості пасажирів за допомогою LSTM.\n",
        "\n",
        "1. **Конструктор класу** повинен приймати параметри `hidden_size`, `num_layers` та ініціювати шари:\n",
        "   - LSTM-шар з наступними параметрами:\n",
        "     - `input_size` — кожна точка часового ряду є окремим входом,,\n",
        "     - `hidden_size` — заданий в конструкторі класу мережі,\n",
        "     - `num_layers=1` — кількість шарів LSTM, задана в конструкторі мережі,\n",
        "     - `batch_first=True` — визначає, що першим виміром є розмір батчу.\n",
        "   - Лінійний шар (`nn.Linear`) для перетворення виходу LSTM на прогноз однієї точки.\n",
        "\n",
        "2. **Метод forward** повинен виконувати наступні дії:\n",
        "   - Передати вхідний тензор через LSTM-шар і отримати виходи (ігноруючи приховані стани).\n",
        "   - Пропустити вихід LSTM через лінійний шар для отримання остаточного прогнозу.\n",
        "\n",
        "Створіть об'єкт класу `AirModel` зі значеннями параметрів `hidden_size=50`, `num_layers=1` і протестуйте роботу моделі на вхідному тензорі `tensor([[112.]])`. На цьому етапі ми маємо переконатись, що модель здатна генерувати передбачення з рандомно ініційованими вагами."
      ],
      "metadata": {
        "id": "eeiFJ-jDznj5"
      }
    },
    {
      "cell_type": "code",
      "source": [
        "# Define the AirModel class\n",
        "class AirModel(nn.Module):\n",
        "    def __init__(self, hidden_size, num_layers):\n",
        "        super(AirModel, self).__init__()\n",
        "\n",
        "        # Define LSTM layer\n",
        "        self.lstm = nn.LSTM(\n",
        "            input_size=1,          # Each time step is a single value (e.g., passengers)\n",
        "            hidden_size=hidden_size,  # Hidden layer size\n",
        "            num_layers=num_layers,    # Number of LSTM layers\n",
        "            batch_first=True          # Batch size is the first dimension\n",
        "        )\n",
        "\n",
        "        # Define a linear layer to map LSTM output to a single value prediction\n",
        "        self.linear = nn.Linear(hidden_size, 1)\n",
        "\n",
        "    # Define the forward method\n",
        "    def forward(self, x):\n",
        "        # LSTM returns the output and the hidden states (we ignore the hidden states)\n",
        "        lstm_out, _ = self.lstm(x)\n",
        "\n",
        "        # Pass the output of LSTM through the linear layer to get the prediction\n",
        "        output = self.linear(lstm_out[:, -1, :])  # We only take the output of the last time step\n",
        "\n",
        "        return output"
      ],
      "metadata": {
        "id": "dcafrsmrDHsz"
      },
      "execution_count": 29,
      "outputs": []
    },
    {
      "cell_type": "code",
      "source": [
        "# Instantiate the AirModel with hidden_size=50 and num_layers=1\n",
        "model = AirModel(hidden_size=50, num_layers=1)\n",
        "\n",
        "# Test the model with a sample input tensor\n",
        "input_tensor = torch.tensor([[[112.]]])  # A single batch with one time step and one feature\n",
        "output = model(input_tensor)\n",
        "\n",
        "# Print the output to verify the model works with randomly initialized weights\n",
        "print(output)"
      ],
      "metadata": {
        "colab": {
          "base_uri": "https://localhost:8080/"
        },
        "id": "5RL2l6AHfjk6",
        "outputId": "8d02dbe6-c3df-4666-9d53-7b701cb26bc0"
      },
      "execution_count": 30,
      "outputs": [
        {
          "output_type": "stream",
          "name": "stdout",
          "text": [
            "tensor([[0.3206]], grad_fn=<AddmmBackward0>)\n"
          ]
        }
      ]
    },
    {
      "cell_type": "markdown",
      "source": [
        "**Завдання 5**.\n",
        "\n",
        "Створіть об'єкт DataLoader для завантаження даних, використовуючи тренувальні вибірки `X_train` та `y_train`. Ваш DataLoader повинен виконувати наступні вимоги:\n",
        "\n",
        "1. Використовувати клас `TensorDataset`, щоб об'єднати тензори ознак `X_train` і цільових значень `y_train`.\n",
        "2. Дані повинні завантажуватися невеликими батчами розміром 8 за допомогою параметра `batch_size`.\n",
        "3. Використовувати параметр `shuffle=True`, щоб дані перемішувалися перед кожною епохою тренування.\n"
      ],
      "metadata": {
        "id": "-R6zv9nu2tWB"
      }
    },
    {
      "cell_type": "code",
      "source": [
        "# Step 1: Create a TensorDataset using X_train and y_train\n",
        "train_dataset = TensorDataset(X_train, y_train)\n",
        "\n",
        "# Step 2: Create a DataLoader with a batch size of 8 and shuffling enabled\n",
        "batch_size = 8\n",
        "train_loader = DataLoader(train_dataset, batch_size=batch_size, shuffle=True)\n",
        "\n",
        "# Print the batches to verify the DataLoader is working\n",
        "for i, (inputs, targets) in enumerate(train_loader):\n",
        "    print(f\"Batch {i+1}\")\n",
        "    print(\"Inputs:\", inputs)\n",
        "    print(\"Targets:\", targets)"
      ],
      "metadata": {
        "id": "WKdkptY7DMAc",
        "colab": {
          "base_uri": "https://localhost:8080/"
        },
        "outputId": "c71a976a-ad19-421a-a37e-733eec29a114"
      },
      "execution_count": 31,
      "outputs": [
        {
          "output_type": "stream",
          "name": "stdout",
          "text": [
            "Batch 1\n",
            "Inputs: tensor([[[141.]],\n",
            "\n",
            "        [[191.]],\n",
            "\n",
            "        [[242.]],\n",
            "\n",
            "        [[178.]],\n",
            "\n",
            "        [[104.]],\n",
            "\n",
            "        [[194.]],\n",
            "\n",
            "        [[236.]],\n",
            "\n",
            "        [[209.]]])\n",
            "Targets: tensor([[135.],\n",
            "        [172.],\n",
            "        [209.],\n",
            "        [163.],\n",
            "        [118.],\n",
            "        [196.],\n",
            "        [235.],\n",
            "        [191.]])\n",
            "Batch 2\n",
            "Inputs: tensor([[[374.]],\n",
            "\n",
            "        [[178.]],\n",
            "\n",
            "        [[269.]],\n",
            "\n",
            "        [[162.]],\n",
            "\n",
            "        [[172.]],\n",
            "\n",
            "        [[204.]],\n",
            "\n",
            "        [[302.]],\n",
            "\n",
            "        [[235.]]])\n",
            "Targets: tensor([[413.],\n",
            "        [199.],\n",
            "        [270.],\n",
            "        [146.],\n",
            "        [178.],\n",
            "        [188.],\n",
            "        [293.],\n",
            "        [227.]])\n",
            "Batch 3\n",
            "Inputs: tensor([[[193.]],\n",
            "\n",
            "        [[312.]],\n",
            "\n",
            "        [[218.]],\n",
            "\n",
            "        [[203.]],\n",
            "\n",
            "        [[272.]],\n",
            "\n",
            "        [[274.]],\n",
            "\n",
            "        [[149.]],\n",
            "\n",
            "        [[405.]]])\n",
            "Targets: tensor([[181.],\n",
            "        [274.],\n",
            "        [230.],\n",
            "        [229.],\n",
            "        [237.],\n",
            "        [237.],\n",
            "        [170.],\n",
            "        [355.]])\n",
            "Batch 4\n",
            "Inputs: tensor([[[278.]],\n",
            "\n",
            "        [[181.]],\n",
            "\n",
            "        [[121.]],\n",
            "\n",
            "        [[126.]],\n",
            "\n",
            "        [[125.]],\n",
            "\n",
            "        [[132.]],\n",
            "\n",
            "        [[114.]],\n",
            "\n",
            "        [[170.]]])\n",
            "Targets: tensor([[284.],\n",
            "        [183.],\n",
            "        [135.],\n",
            "        [141.],\n",
            "        [149.],\n",
            "        [129.],\n",
            "        [140.],\n",
            "        [158.]])\n",
            "Batch 5\n",
            "Inputs: tensor([[[188.]],\n",
            "\n",
            "        [[172.]],\n",
            "\n",
            "        [[264.]],\n",
            "\n",
            "        [[318.]],\n",
            "\n",
            "        [[196.]],\n",
            "\n",
            "        [[229.]],\n",
            "\n",
            "        [[229.]],\n",
            "\n",
            "        [[201.]]])\n",
            "Targets: tensor([[235.],\n",
            "        [194.],\n",
            "        [272.],\n",
            "        [374.],\n",
            "        [196.],\n",
            "        [242.],\n",
            "        [203.],\n",
            "        [204.]])\n",
            "Batch 6\n",
            "Inputs: tensor([[[227.]],\n",
            "\n",
            "        [[171.]],\n",
            "\n",
            "        [[180.]],\n",
            "\n",
            "        [[233.]],\n",
            "\n",
            "        [[135.]],\n",
            "\n",
            "        [[315.]],\n",
            "\n",
            "        [[180.]],\n",
            "\n",
            "        [[355.]]])\n",
            "Targets: tensor([[234.],\n",
            "        [180.],\n",
            "        [193.],\n",
            "        [267.],\n",
            "        [148.],\n",
            "        [364.],\n",
            "        [201.],\n",
            "        [306.]])\n",
            "Batch 7\n",
            "Inputs: tensor([[[234.]],\n",
            "\n",
            "        [[317.]],\n",
            "\n",
            "        [[196.]],\n",
            "\n",
            "        [[293.]],\n",
            "\n",
            "        [[243.]],\n",
            "\n",
            "        [[230.]],\n",
            "\n",
            "        [[129.]],\n",
            "\n",
            "        [[270.]]])\n",
            "Targets: tensor([[264.],\n",
            "        [313.],\n",
            "        [236.],\n",
            "        [259.],\n",
            "        [264.],\n",
            "        [242.],\n",
            "        [121.],\n",
            "        [315.]])\n",
            "Batch 8\n",
            "Inputs: tensor([[[199.]],\n",
            "\n",
            "        [[183.]],\n",
            "\n",
            "        [[145.]],\n",
            "\n",
            "        [[237.]],\n",
            "\n",
            "        [[235.]],\n",
            "\n",
            "        [[112.]],\n",
            "\n",
            "        [[306.]],\n",
            "\n",
            "        [[148.]]])\n",
            "Targets: tensor([[199.],\n",
            "        [218.],\n",
            "        [150.],\n",
            "        [278.],\n",
            "        [229.],\n",
            "        [118.],\n",
            "        [271.],\n",
            "        [148.]])\n",
            "Batch 9\n",
            "Inputs: tensor([[[211.]],\n",
            "\n",
            "        [[229.]],\n",
            "\n",
            "        [[119.]],\n",
            "\n",
            "        [[133.]],\n",
            "\n",
            "        [[115.]],\n",
            "\n",
            "        [[264.]],\n",
            "\n",
            "        [[413.]],\n",
            "\n",
            "        [[148.]]])\n",
            "Targets: tensor([[180.],\n",
            "        [243.],\n",
            "        [104.],\n",
            "        [114.],\n",
            "        [126.],\n",
            "        [302.],\n",
            "        [405.],\n",
            "        [136.]])\n",
            "Batch 10\n",
            "Inputs: tensor([[[136.]],\n",
            "\n",
            "        [[158.]],\n",
            "\n",
            "        [[364.]],\n",
            "\n",
            "        [[271.]],\n",
            "\n",
            "        [[237.]],\n",
            "\n",
            "        [[135.]],\n",
            "\n",
            "        [[150.]],\n",
            "\n",
            "        [[166.]]])\n",
            "Targets: tensor([[119.],\n",
            "        [133.],\n",
            "        [347.],\n",
            "        [306.],\n",
            "        [211.],\n",
            "        [125.],\n",
            "        [178.],\n",
            "        [171.]])\n",
            "Batch 11\n",
            "Inputs: tensor([[[184.]],\n",
            "\n",
            "        [[140.]],\n",
            "\n",
            "        [[267.]],\n",
            "\n",
            "        [[313.]],\n",
            "\n",
            "        [[170.]],\n",
            "\n",
            "        [[347.]],\n",
            "\n",
            "        [[277.]],\n",
            "\n",
            "        [[146.]]])\n",
            "Targets: tensor([[162.],\n",
            "        [145.],\n",
            "        [269.],\n",
            "        [318.],\n",
            "        [170.],\n",
            "        [312.],\n",
            "        [317.],\n",
            "        [166.]])\n",
            "Batch 12\n",
            "Inputs: tensor([[[242.]],\n",
            "\n",
            "        [[163.]],\n",
            "\n",
            "        [[118.]],\n",
            "\n",
            "        [[199.]],\n",
            "\n",
            "        [[259.]],\n",
            "\n",
            "        [[118.]],\n",
            "\n",
            "        [[284.]]])\n",
            "Targets: tensor([[233.],\n",
            "        [172.],\n",
            "        [115.],\n",
            "        [184.],\n",
            "        [229.],\n",
            "        [132.],\n",
            "        [277.]])\n"
          ]
        }
      ]
    },
    {
      "cell_type": "markdown",
      "source": [
        "**Завдання 6**.\n",
        "\n",
        "1. Реалізуйте навчання нейронної мережі `AirModel` для прогнозування часових рядів, використовуючи Adam-оптимізатор та функцію втрат MSE (середньоквадратичну похибку).\n",
        "2. Створіть цикл тренування для 2000 епох, у якому на кожній епосі:\n",
        "   - Виконуйте крок тренування моделі (прямий прохід, обчислення похибки, зворотний прохід і оновлення ваг).\n",
        "   - Підраховуйте середню похибку на кожному батчі даних і зберігайте її у списку `losses`.\n",
        "3. Раз на 100 епох проводьте валідацію моделі:\n",
        "   - Перевіряйте модель на тренувальних та тестових даних без оновлення ваг.\n",
        "   - Обчислюйте корінь середньоквадратичної похибки (RMSE) для тренувальної та тестової вибірок і виводьте результати на екран.\n",
        "   \n",
        "**Примітка:**\n",
        "- Використовуйте вже створений `DataLoader` для отримання батчів даних.\n",
        "- Валідацію виконуйте в режимі `eval()`, вимикаючи обчислення градієнтів з `torch.no_grad()`.\n",
        "\n",
        "**Приклад виходу:**\n",
        "```\n",
        "Epoch 0: train RMSE 12.3456, test RMSE 15.6789\n",
        "Epoch 100: train RMSE 9.8765, test RMSE 12.3456\n",
        "...\n",
        "```"
      ],
      "metadata": {
        "id": "6ZaGh7IF2nfT"
      }
    },
    {
      "cell_type": "code",
      "source": [
        "# Function to calculate RMSE\n",
        "def rmse_loss(y_pred, y_true):\n",
        "    return torch.sqrt(nn.MSELoss()(y_pred, y_true))\n",
        "\n",
        "# Initialize the model, loss function, and optimizer\n",
        "model = AirModel(hidden_size=50, num_layers=1)\n",
        "optimizer = optim.Adam(model.parameters(), lr=0.001)\n",
        "criterion = nn.MSELoss()\n",
        "\n",
        "# Set the model to training mode\n",
        "model.train()\n",
        "\n",
        "# Number of epochs\n",
        "epochs = 2000\n",
        "\n",
        "# Store losses\n",
        "train_losses = []\n",
        "\n",
        "test_dataset = TensorDataset(X_test, y_test)\n",
        "\n",
        "# Create a DataLoader for the test (validation) dataset\n",
        "test_loader = DataLoader(test_dataset, batch_size=batch_size, shuffle=False)  # No shuffling for the test set\n",
        "\n",
        "# Number of epochs\n",
        "epochs = 2000\n",
        "\n",
        "# Store losses\n",
        "train_losses = []\n",
        "\n",
        "# Training loop\n",
        "for epoch in range(epochs):\n",
        "    epoch_train_loss = 0\n",
        "\n",
        "    # Training\n",
        "    for X_batch, y_batch in train_loader:\n",
        "        # Zero the gradients\n",
        "        optimizer.zero_grad()\n",
        "\n",
        "        # Forward pass\n",
        "        y_pred = model(X_batch)\n",
        "\n",
        "        # Compute the loss\n",
        "        loss = criterion(y_pred, y_batch)\n",
        "\n",
        "        # Backward pass and optimization\n",
        "        loss.backward()\n",
        "        optimizer.step()\n",
        "\n",
        "        # Accumulate the training loss\n",
        "        epoch_train_loss += loss.item()\n",
        "\n",
        "    # Calculate average training RMSE\n",
        "    avg_train_rmse = math.sqrt(epoch_train_loss / len(train_loader))\n",
        "\n",
        "    # Every 100 epochs, evaluate on the validation set\n",
        "    if (epoch + 1) % 100 == 0:\n",
        "        model.eval()  # Set the model to evaluation mode\n",
        "        val_loss = 0\n",
        "\n",
        "        with torch.no_grad():  # Disable gradient calculations\n",
        "            for X_batch, y_batch in test_loader:\n",
        "                # Forward pass\n",
        "                y_pred = model(X_batch)\n",
        "\n",
        "                # Compute validation loss\n",
        "                val_loss += criterion(y_pred, y_batch).item()\n",
        "\n",
        "        # Calculate RMSE for the validation set\n",
        "        avg_val_rmse = math.sqrt(val_loss / len(test_loader))\n",
        "\n",
        "        # Print RMSE for both training and validation\n",
        "        print(f\"Epoch {epoch+1}: train RMSE {avg_train_rmse:.4f}, test RMSE {avg_val_rmse:.4f}\")\n",
        "\n",
        "        model.train()  # Switch back to training mode\n",
        "\n",
        "    # Save training RMSE for each epoch\n",
        "    train_losses.append(avg_train_rmse)"
      ],
      "metadata": {
        "id": "pEVnWusrDNTt",
        "colab": {
          "base_uri": "https://localhost:8080/"
        },
        "outputId": "d6c4ec61-6288-40eb-bcf8-fca11427e313"
      },
      "execution_count": 32,
      "outputs": [
        {
          "output_type": "stream",
          "name": "stdout",
          "text": [
            "Epoch 100: train RMSE 187.3312, test RMSE 383.6420\n",
            "Epoch 200: train RMSE 152.7068, test RMSE 346.9992\n",
            "Epoch 300: train RMSE 123.7587, test RMSE 313.9295\n",
            "Epoch 400: train RMSE 100.0889, test RMSE 284.3447\n",
            "Epoch 500: train RMSE 81.4562, test RMSE 257.8139\n",
            "Epoch 600: train RMSE 65.8947, test RMSE 232.5406\n",
            "Epoch 700: train RMSE 53.0437, test RMSE 209.3987\n",
            "Epoch 800: train RMSE 44.1828, test RMSE 188.7102\n",
            "Epoch 900: train RMSE 37.1343, test RMSE 170.5076\n",
            "Epoch 1000: train RMSE 32.7050, test RMSE 155.0385\n",
            "Epoch 1100: train RMSE 28.9357, test RMSE 141.6872\n",
            "Epoch 1200: train RMSE 27.5390, test RMSE 130.9664\n",
            "Epoch 1300: train RMSE 26.3544, test RMSE 123.6007\n",
            "Epoch 1400: train RMSE 25.2445, test RMSE 118.3827\n",
            "Epoch 1500: train RMSE 24.4752, test RMSE 111.8181\n",
            "Epoch 1600: train RMSE 24.3111, test RMSE 107.8241\n",
            "Epoch 1700: train RMSE 24.1053, test RMSE 104.6378\n",
            "Epoch 1800: train RMSE 24.2730, test RMSE 102.6742\n",
            "Epoch 1900: train RMSE 23.8880, test RMSE 99.9788\n",
            "Epoch 2000: train RMSE 24.2907, test RMSE 98.9971\n"
          ]
        }
      ]
    },
    {
      "cell_type": "markdown",
      "source": [
        "**Завдання 7.** Побудуйте графік лосів. Зробіть висновок з графіку, чи навчилась модель?"
      ],
      "metadata": {
        "id": "m0sIo4kp5X_s"
      }
    },
    {
      "cell_type": "code",
      "source": [
        "plt.figure(figsize=(10, 6))\n",
        "plt.plot(train_losses, label=\"Training RMSE\")\n",
        "plt.title(\"Training RMSE Over Epochs\")\n",
        "plt.xlabel(\"Epochs\")\n",
        "plt.ylabel(\"RMSE\")\n",
        "plt.legend()\n",
        "plt.grid(True)\n",
        "plt.show()"
      ],
      "metadata": {
        "id": "AS2USLRq76up",
        "colab": {
          "base_uri": "https://localhost:8080/",
          "height": 564
        },
        "outputId": "638d5524-f571-4fee-fbcb-91dce9e35720"
      },
      "execution_count": 33,
      "outputs": [
        {
          "output_type": "display_data",
          "data": {
            "text/plain": [
              "<Figure size 1000x600 with 1 Axes>"
            ],
            "image/png": "[encoded data removed]"
          },
          "metadata": {}
        }
      ]
    },
    {
      "cell_type": "markdown",
      "source": [
        "**Model Accuracy Analysis:**\n",
        "\n",
        "The model learned but its accuracy is not ideal, as indicated by a high RMSE on test data, significantly higher than expected.\n",
        "\n",
        "High RMSE: Indicates a large deviation from actual values. For example, an RMSE of 100 means the predictions differ from actual values by approximately 100,000 passengers.\n",
        "\n",
        "**Possible Reasons:**\n",
        "\n",
        "1. Overfitting: The model performs well on training data but poorly generalizes on new (test) data, indicating overfitting.\n",
        "\n",
        "**Improvement Paths:**\n",
        "\n",
        "1. Regularization: Apply methods like L2 regularization.\n",
        "2. Data Normalization: Include data normalization.\n",
        "3. Training Process Adjustment: Improve the training process for better generalization and reduced error on test data.\n"
      ],
      "metadata": {
        "id": "bAv3b0SQglVC"
      }
    },
    {
      "cell_type": "markdown",
      "source": [
        "Модель навчилась, але не факт, що точно)"
      ],
      "metadata": {
        "id": "8eBoUQVB5p0h"
      }
    },
    {
      "cell_type": "markdown",
      "source": [
        "Доволі неочікувано, що середньоквадратичне відхилення тестового набору даних буде на порядок більшим за одиниці в нашому наборі даних. Середньоквадратичне відхилення 100 означає, що прогноз і фактичне значення будуть відрізнятися в середньому на 100 (тобто, 100 000 пасажирів у цьому наборі даних).\n",
        "\n"
      ],
      "metadata": {
        "id": "-vCiGfQw7sEK"
      }
    },
    {
      "cell_type": "markdown",
      "source": [
        "Щоб краще зрозуміти якість прогнозу, ви можете побудувати графік з кодом нижче (а ще нижче - описано, що відбувається в цьому коді, бо це теж корисно зрозуміти):"
      ],
      "metadata": {
        "id": "bgtO7NZh77vU"
      }
    },
    {
      "cell_type": "code",
      "source": [
        "timeseries = passengers_array"
      ],
      "metadata": {
        "id": "pvCutyu3g-d5"
      },
      "execution_count": 34,
      "outputs": []
    },
    {
      "cell_type": "code",
      "source": [
        "def plot_predicts():\n",
        "    with torch.no_grad():  # Disable gradient calculation for predictions\n",
        "\n",
        "        # Get the size of the training set\n",
        "        train_size = len(X_train)\n",
        "\n",
        "        # Create placeholders for predictions\n",
        "        train_plot = np.ones_like(timeseries) * np.nan\n",
        "        test_plot = np.ones_like(timeseries) * np.nan\n",
        "\n",
        "        # Generate predictions for the training data\n",
        "        y_pred_train = model(X_train)\n",
        "        train_plot[lookback:lookback + train_size] = y_pred_train[:, -1].numpy()\n",
        "\n",
        "        # Generate predictions for the test data\n",
        "        y_pred_test = model(X_test)\n",
        "        test_plot[lookback + train_size:lookback + train_size + len(X_test)] = y_pred_test[:, -1].numpy()\n",
        "\n",
        "        # Visualization of real data and predictions\n",
        "        plt.plot(timeseries, color='b', label='Actual data')\n",
        "        plt.plot(train_plot, color='r', label='Predictions on training data')\n",
        "        plt.plot(test_plot, color='g', label='Predictions on test data')\n",
        "\n",
        "        plt.title('Time Series Prediction')\n",
        "        plt.xlabel('Time')\n",
        "        plt.ylabel('Passengers')\n",
        "        plt.legend()\n",
        "        plt.show()\n",
        "\n",
        "# Call the function to plot predictions\n",
        "plot_predicts()"
      ],
      "metadata": {
        "colab": {
          "base_uri": "https://localhost:8080/",
          "height": 472
        },
        "id": "9CyW_imkhA2C",
        "outputId": "ff1c5d94-ba2b-435d-86a4-e0de9d7dda39"
      },
      "execution_count": 35,
      "outputs": [
        {
          "output_type": "display_data",
          "data": {
            "text/plain": [
              "<Figure size 640x480 with 1 Axes>"
            ],
            "image/png": "[encoded data removed]"
          },
          "metadata": {}
        }
      ]
    },
    {
      "cell_type": "markdown",
      "source": [
        "**Що відбувається в коді вище.** В цьому коді здійснюється процес прогнозування часових рядів за допомогою LSTM моделі, а також виведення графіку, який показує реальні значення, тренувальні та тестові прогнози. Ось що відбувається на кожному етапі:\n",
        "\n",
        "1. **`torch.no_grad()`**: Цей контекстний менеджер вимикає обчислення градієнтів, що означає, що під час прогнозування не будуть зберігатися проміжні обчислення для зворотного проходу (backpropagation). Це підвищує ефективність під час прогнозування і зменшує використання пам'яті.\n",
        "\n",
        "2. **Зсув прогнозів для тренувальних даних:**\n",
        "   - Створюється масив `train_plot`, який має такий самий розмір, як і часовий ряд (`timeseries`), і заповнюється значеннями NaN (`np.nan`), щоб залишити місце для реальних значень.\n",
        "   - Модель передбачає виходи для тренувальних даних `X_train`.\n",
        "   - Використовується лише останнє передбачене значення для кожного входу LSTM (`y_pred[:, -1]`).\n",
        "   - Прогнози зсуваються, починаючи з індексу `lookback` до кінця тренувальних даних (індекс `train_size`). Цей зсув потрібен, щоб зробити прогноз на основі попередніх даних і відобразити його на правильній частині графіку.\n",
        "\n",
        "3. **Зсув прогнозів для тестових даних:**\n",
        "   - Створюється масив `test_plot`, який також заповнюється NaN.\n",
        "   - Прогнози для тестових даних додаються з індексу `train_size + lookback` до кінця реальних даних, щоб відобразити, де модель починає прогнозувати тестову вибірку.\n",
        "\n",
        "4. **Побудова графіка:**\n",
        "   - `plt.plot(timeseries, c='b')`: Виводить реальні значення часового ряду (синя лінія).\n",
        "   - `plt.plot(train_plot, c='r')`: Виводить тренувальні прогнози (червона лінія).\n",
        "   - `plt.plot(test_plot, c='g')`: Виводить тестові прогнози (зелена лінія).\n",
        "\n",
        "**Чому це робиться:**\n",
        "- Зсув прогнозів для тренувальних і тестових даних дозволяє візуально зрівняти, наскільки добре модель прогнозує як на тренувальній, так і на тестовій вибірках. Зазвичай, червона лінія (тренувальні прогнози) повинна точно відповідати синій лінії (реальні дані), а зелена лінія (тестові прогнози) дає змогу побачити, наскільки модель добре працює на нових даних, яких вона раніше не бачила."
      ],
      "metadata": {
        "id": "ahPW3iiJDg1R"
      }
    },
    {
      "cell_type": "markdown",
      "source": [
        "**Завдання 8**. Навчіть модель з hidden_size=100 та порівняйте результати прогнозів з попередніми."
      ],
      "metadata": {
        "id": "PhoeHLus-xIr"
      }
    },
    {
      "cell_type": "code",
      "source": [
        "# Define a new model with hidden_size=100\n",
        "model = AirModel(hidden_size=100, num_layers=1)\n",
        "\n",
        "# Initialize the optimizer again since we have a new model\n",
        "optimizer = optim.Adam(model.parameters(), lr=0.001)\n",
        "\n",
        "# Set the model to training mode\n",
        "model.train()\n",
        "\n",
        "# Number of epochs\n",
        "epochs = 2000\n",
        "\n",
        "# Store losses\n",
        "train_losses = []\n",
        "\n",
        "# Training loop\n",
        "for epoch in range(epochs):\n",
        "    epoch_train_loss = 0\n",
        "\n",
        "    # Training\n",
        "    for X_batch, y_batch in train_loader:\n",
        "        # Zero the gradients\n",
        "        optimizer.zero_grad()\n",
        "\n",
        "        # Forward pass\n",
        "        y_pred = model(X_batch)\n",
        "\n",
        "        # Compute the loss\n",
        "        loss = criterion(y_pred, y_batch)\n",
        "\n",
        "        # Backward pass and optimization\n",
        "        loss.backward()\n",
        "        optimizer.step()\n",
        "\n",
        "        # Accumulate the training loss\n",
        "        epoch_train_loss += loss.item()\n",
        "\n",
        "    # Calculate average training RMSE\n",
        "    avg_train_rmse = math.sqrt(epoch_train_loss / len(train_loader))\n",
        "\n",
        "    # Every 100 epochs, evaluate on the validation set\n",
        "    if (epoch + 1) % 100 == 0:\n",
        "        model.eval()  # Set the model to evaluation mode\n",
        "        val_loss = 0\n",
        "\n",
        "        with torch.no_grad():  # Disable gradient calculations\n",
        "            for X_batch, y_batch in test_loader:\n",
        "                # Forward pass\n",
        "                y_pred = model(X_batch)\n",
        "\n",
        "                # Compute validation loss\n",
        "                val_loss += criterion(y_pred, y_batch).item()\n",
        "\n",
        "        # Calculate RMSE for the validation set\n",
        "        avg_val_rmse = math.sqrt(val_loss / len(test_loader))\n",
        "\n",
        "        # Print RMSE for both training and validation\n",
        "        print(f\"Epoch {epoch+1}: train RMSE {avg_train_rmse:.4f}, test RMSE {avg_val_rmse:.4f}\")\n",
        "\n",
        "        model.train()  # Switch back to training mode\n",
        "\n",
        "    # Save training RMSE for each epoch\n",
        "    train_losses.append(avg_train_rmse)"
      ],
      "metadata": {
        "id": "92032N_E_PxY",
        "colab": {
          "base_uri": "https://localhost:8080/"
        },
        "outputId": "dcefbf75-eebc-434b-993a-9e88c51c16a4"
      },
      "execution_count": 36,
      "outputs": [
        {
          "output_type": "stream",
          "name": "stdout",
          "text": [
            "Epoch 100: train RMSE 153.3781, test RMSE 347.0857\n",
            "Epoch 200: train RMSE 104.8631, test RMSE 290.3834\n",
            "Epoch 300: train RMSE 74.9583, test RMSE 247.1514\n",
            "Epoch 400: train RMSE 53.6670, test RMSE 210.3781\n",
            "Epoch 500: train RMSE 40.1630, test RMSE 180.6396\n",
            "Epoch 600: train RMSE 33.3064, test RMSE 157.1693\n",
            "Epoch 700: train RMSE 28.6270, test RMSE 138.5423\n",
            "Epoch 800: train RMSE 28.4039, test RMSE 125.5578\n",
            "Epoch 900: train RMSE 28.7142, test RMSE 117.5135\n",
            "Epoch 1000: train RMSE 24.6025, test RMSE 108.4739\n",
            "Epoch 1100: train RMSE 25.0344, test RMSE 102.8563\n",
            "Epoch 1200: train RMSE 23.7924, test RMSE 99.7398\n",
            "Epoch 1300: train RMSE 24.9153, test RMSE 96.7551\n",
            "Epoch 1400: train RMSE 24.5843, test RMSE 97.6887\n",
            "Epoch 1500: train RMSE 23.4725, test RMSE 93.3937\n",
            "Epoch 1600: train RMSE 23.3978, test RMSE 91.7951\n",
            "Epoch 1700: train RMSE 23.4144, test RMSE 92.6365\n",
            "Epoch 1800: train RMSE 25.4704, test RMSE 94.2672\n",
            "Epoch 1900: train RMSE 24.0757, test RMSE 93.4550\n",
            "Epoch 2000: train RMSE 26.4212, test RMSE 90.0486\n"
          ]
        }
      ]
    },
    {
      "cell_type": "code",
      "source": [
        "plt.figure(figsize=(10, 6))\n",
        "plt.plot(train_losses, label=\"Training RMSE hidden_size=100\")\n",
        "plt.title(\"Training RMSE Over Epochs\")\n",
        "plt.xlabel(\"Epochs\")\n",
        "plt.ylabel(\"RMSE\")\n",
        "plt.legend()\n",
        "plt.grid(True)\n",
        "plt.show()"
      ],
      "metadata": {
        "colab": {
          "base_uri": "https://localhost:8080/",
          "height": 564
        },
        "id": "rG5XDEIyjTpS",
        "outputId": "654d93cc-521c-46d8-dd58-3951eed87f96"
      },
      "execution_count": 37,
      "outputs": [
        {
          "output_type": "display_data",
          "data": {
            "text/plain": [
              "<Figure size 1000x600 with 1 Axes>"
            ],
            "image/png": "[encoded data removed]"
          },
          "metadata": {}
        }
      ]
    },
    {
      "cell_type": "code",
      "source": [
        "# Call the function to plot predictions\n",
        "plot_predicts()"
      ],
      "metadata": {
        "colab": {
          "base_uri": "https://localhost:8080/",
          "height": 472
        },
        "id": "7_7Ff9XVjWHu",
        "outputId": "0c0f4f2d-3a1d-4717-89f7-216ea6d9aaeb"
      },
      "execution_count": 38,
      "outputs": [
        {
          "output_type": "display_data",
          "data": {
            "text/plain": [
              "<Figure size 640x480 with 1 Axes>"
            ],
            "image/png": "[encoded data removed]"
          },
          "metadata": {}
        }
      ]
    },
    {
      "cell_type": "markdown",
      "source": [
        "**Model Comparison Conclusions:**\n",
        "\n",
        "**1. RMSE:**\n",
        "\n",
        "**First Model (hidden_size=50):**\n",
        "\n",
        "Training RMSE: Stabilizes around 24 after 2000 epochs.\n",
        "\n",
        "Test RMSE: Starts very high (over 350) and reduces to about 100 by the end of training, indicating overfitting.\n",
        "\n",
        "**Second Model (hidden_size=100):**\n",
        "\n",
        "Training RMSE: Similarly stabilizes around 24 after 2000 epochs.\n",
        "\n",
        "Test RMSE: Decreases more rapidly, reaching around 90, slightly better than the first model.\n",
        "\n",
        "**2. Prediction Graphs:**\n",
        "\n",
        "Both models follow real data closely on the training set (red line), but deviate on the test set (green line), especially in later stages with higher passenger numbers.\n",
        "\n",
        "The second model (hidden_size=100) better captures trends on the test set, particularly in the first half.\n",
        "\n",
        "**Overall Conclusions:**\n",
        "\n",
        "1. Both models perform well on training data but struggle with generalization on test data, indicating overfitting.\n",
        "2. The second model (hidden_size=100) shows slightly better results on test data, with RMSE reducing to 90 (versus 100 for the first model).\n",
        "3. Regularization methods or more training data might help reduce overfitting and improve generalization on test data.\n"
      ],
      "metadata": {
        "id": "7VilHJFeilHH"
      }
    }
  ]
}
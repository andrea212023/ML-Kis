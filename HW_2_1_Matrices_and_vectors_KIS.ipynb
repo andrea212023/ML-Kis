{
  "nbformat": 4,
  "nbformat_minor": 0,
  "metadata": {
    "colab": {
      "provenance": [],
      "include_colab_link": true
    },
    "kernelspec": {
      "name": "python3",
      "display_name": "Python 3"
    },
    "language_info": {
      "name": "python"
    }
  },
  "cells": [
    {
      "cell_type": "markdown",
      "metadata": {
        "id": "view-in-github",
        "colab_type": "text"
      },
      "source": [
        "<a href=\"https://colab.research.google.com/github/andrea212023/ML-Kis/blob/main/HW_2_1_Matrices_and_vectors_KIS.ipynb\" target=\"_parent\"><img src=\"https://colab.research.google.com/assets/colab-badge.svg\" alt=\"Open In Colab\"/></a>"
      ]
    },
    {
      "cell_type": "markdown",
      "source": [
        "### Завдання 1: Створення матриць та векторів\n",
        "1. Створіть `numpy` вектор `vector` розмірністю 10 з випадковими дійсними значеннями в діапазоні від 0 до 1. Можна скористатись двома альтернативними варіантами:\n",
        "  1. Генерація випадкових чисел з модулем [`random.uniform`](https://docs.python.org/3/library/random.html).\n",
        "  2. Створення вектора з допомогою метода `numpy` [np.random.rand](https://numpy.org/doc/stable/reference/random/generated/numpy.random.rand.html)\n",
        "\n",
        "2. Створіть матрицю `matrix` типу `numpy.array` розмірності 3x3 з наступними значеннями\n",
        "\n",
        "  $$\n",
        "  matrix = \\begin{bmatrix}\n",
        "  11 & 14 & 17 \\\\\n",
        "  20 & 23 & 26 \\\\\n",
        "  29 & 32 & 35\n",
        "  \\end{bmatrix}\n",
        "  $$\n",
        "\n",
        "  будь-яким відомими Вам способом.\n",
        "\n",
        "Виведіть на екран вектор і матрицю, а також їх розміри.\n"
      ],
      "metadata": {
        "id": "efug1V4CM0lT"
      }
    },
    {
      "cell_type": "code",
      "source": [
        "import numpy as np\n",
        "\n",
        "# Task 1: Create a vector with 10 random float values between 0 and 1\n",
        "vector = np.random.rand(10)  # Using np.random.rand as an alternative to random.uniform\n",
        "print(\"Vector:\", vector)\n",
        "print(\"Size of vector:\", vector.size)\n",
        "\n",
        "# Task 2: Create a 3x3 matrix with specified values\n",
        "matrix = np.array([\n",
        "    [11, 14, 17],\n",
        "    [20, 23, 26],\n",
        "    [29, 32, 35]\n",
        "])\n",
        "print(\"\\nMatrix:\\n\", matrix)\n",
        "print(\"Size of matrix:\", matrix.shape)\n"
      ],
      "metadata": {
        "id": "jxA_lG2_VIMe",
        "colab": {
          "base_uri": "https://localhost:8080/"
        },
        "outputId": "947c1d48-585b-414e-cf5e-cde576c98d37"
      },
      "execution_count": 29,
      "outputs": [
        {
          "output_type": "stream",
          "name": "stdout",
          "text": [
            "Vector: [0.62736289 0.96829693 0.78693949 0.09112663 0.35778188 0.12229678\n",
            " 0.86090324 0.18719853 0.9864471  0.55515442]\n",
            "Size of vector: 10\n",
            "\n",
            "Matrix:\n",
            " [[11 14 17]\n",
            " [20 23 26]\n",
            " [29 32 35]]\n",
            "Size of matrix: (3, 3)\n"
          ]
        }
      ]
    },
    {
      "cell_type": "markdown",
      "source": [
        "\n",
        "### Завдання 2: Операції над векторами та матрицями\n",
        "Виконайте кожну з зазначених операцій над зазначеними оʼєктами і виведіть результат на екран:\n",
        "1. Додайте до кожного значення вектора `vector` число 10 і округліть кожне значення до 2 знаків після коми без використання циклів.\n",
        "2. Помножте кожен елемент матриці з першого завдання на 2 без використання циклів.\n",
        "3. Створіть новий вектор, який містить квадрат кожного `vector` без циклів.\n"
      ],
      "metadata": {
        "id": "TSJ1P4OuOVe2"
      }
    },
    {
      "cell_type": "code",
      "source": [
        "# Task 1: Add 10 to each element in 'vector' and round to 2 decimal places without loops\n",
        "vector_updated = np.round(vector + 10, 2)\n",
        "print(\"Updated Vector (each element +10, rounded to 2 decimal places):\", vector_updated)\n",
        "\n",
        "# Task 2: Multiply each element in 'matrix' by 2 without loops\n",
        "matrix_doubled = matrix * 2\n",
        "print(\"\\nMatrix after multiplying each element by 2:\\n\", matrix_doubled)\n",
        "\n",
        "# Task 3: Create a new vector with the square of each element in 'vector' without loops\n",
        "vector_squared = np.square(vector)\n",
        "print(\"\\nNew Vector (square of each element in original vector):\", vector_squared)"
      ],
      "metadata": {
        "id": "nAAojtyUVJXN",
        "colab": {
          "base_uri": "https://localhost:8080/"
        },
        "outputId": "55c676f8-c41d-4584-903c-54ef775d05b5"
      },
      "execution_count": 30,
      "outputs": [
        {
          "output_type": "stream",
          "name": "stdout",
          "text": [
            "Updated Vector (each element +10, rounded to 2 decimal places): [10.63 10.97 10.79 10.09 10.36 10.12 10.86 10.19 10.99 10.56]\n",
            "\n",
            "Matrix after multiplying each element by 2:\n",
            " [[22 28 34]\n",
            " [40 46 52]\n",
            " [58 64 70]]\n",
            "\n",
            "New Vector (square of each element in original vector): [0.39358419 0.93759895 0.61927375 0.00830406 0.12800787 0.0149565\n",
            " 0.7411544  0.03504329 0.97307787 0.30819643]\n"
          ]
        }
      ]
    },
    {
      "cell_type": "markdown",
      "source": [
        "\n",
        "### Завдання 3: Множення матриць\n",
        "1. Задані дві матриці `A` і `B`розмірностями 3x2 та 2х3. Виконайте їхнє множення, щоб отримати матрицю 2x2. Виведіть результуючу матрицю `result_matrix` на екран.\n",
        "\n",
        "2. Заданий вектор `C` розмірністю 2х1. Подумайте спочатку, яку розмірність Ви отрмаєте, коли домножите `result_matrix` на вектор `C` і який результат буде. А потім виконайте множення і виведіть результат на екран.\n",
        "\n",
        "3. Задана матриця `D` розмірністю 2х2. Подумайте спочатку, яку розмірність Ви отрмаєте, коли домножите `result_matrix` на матрицю `D` і який результат буде. А потім виконайте множення і виведіть результат на екран."
      ],
      "metadata": {
        "id": "u6RvWVfhPy-k"
      }
    },
    {
      "cell_type": "code",
      "source": [
        "A = np.array(\n",
        "    [[0.18, 0.53],\n",
        "     [0.75, 0.47],\n",
        "     [0.35, 0.21]])\n",
        "\n",
        "B = np.array(\n",
        "    [[0.17, 0.58, 0.75],\n",
        "     [0.38, 0.11, 0.15]])\n",
        "\n",
        "C = np.array([[0], [1]])\n",
        "\n",
        "D = np.array([[0,1], [1,0]])\n",
        "\n",
        "display(A, B, C, D)"
      ],
      "metadata": {
        "id": "RwXfPzlbSJ44",
        "colab": {
          "base_uri": "https://localhost:8080/",
          "height": 170
        },
        "outputId": "dc6e286f-f583-453d-c721-8f5ff6d36609"
      },
      "execution_count": 31,
      "outputs": [
        {
          "output_type": "display_data",
          "data": {
            "text/plain": [
              "array([[0.18, 0.53],\n",
              "       [0.75, 0.47],\n",
              "       [0.35, 0.21]])"
            ]
          },
          "metadata": {}
        },
        {
          "output_type": "display_data",
          "data": {
            "text/plain": [
              "array([[0.17, 0.58, 0.75],\n",
              "       [0.38, 0.11, 0.15]])"
            ]
          },
          "metadata": {}
        },
        {
          "output_type": "display_data",
          "data": {
            "text/plain": [
              "array([[0],\n",
              "       [1]])"
            ]
          },
          "metadata": {}
        },
        {
          "output_type": "display_data",
          "data": {
            "text/plain": [
              "array([[0, 1],\n",
              "       [1, 0]])"
            ]
          },
          "metadata": {}
        }
      ]
    },
    {
      "cell_type": "code",
      "source": [
        "import numpy as np\n",
        "\n",
        "# Define matrices A, B, C, and D\n",
        "A = np.array([\n",
        "    [0.18, 0.53],\n",
        "    [0.75, 0.47],\n",
        "    [0.35, 0.21]\n",
        "])\n",
        "\n",
        "B = np.array([\n",
        "    [0.17, 0.58, 0.75],\n",
        "    [0.38, 0.11, 0.15]\n",
        "])\n",
        "\n",
        "C = np.array([[0], [1]])\n",
        "D = np.array([[0, 1], [1, 0]])\n",
        "\n",
        "# Task 1: Matrix multiplication of A (3x2) and B (2x3) to get a 3x3 result\n",
        "result_matrix = np.dot(A, B)\n",
        "print(\"Resulting Matrix (A * B):\\n\", result_matrix)\n",
        "\n",
        "# Task 2: Element-wise multiplication using the second column of result_matrix and vector C\n",
        "# Since result_matrix is 3x3, we use the second column (index 1) to match the size of C\n",
        "result_C = result_matrix[:2, 1] * C.flatten()  # Multiply first two elements of the second column by C\n",
        "print(\"\\nResult of element-wise multiplication of second column of result_matrix with C:\\n\", result_C)\n",
        "\n",
        "# Task 3: Extract the top left 2x2 submatrix from result_matrix and multiply with D\n",
        "sub_matrix = result_matrix[:2, :2]\n",
        "result_D = np.dot(sub_matrix, D)\n",
        "print(\"\\nResult of sub_matrix * D:\\n\", result_D)"
      ],
      "metadata": {
        "colab": {
          "base_uri": "https://localhost:8080/"
        },
        "id": "bIGFayKjUIZs",
        "outputId": "1ca492b6-3797-4040-cf25-f7677103429e"
      },
      "execution_count": 32,
      "outputs": [
        {
          "output_type": "stream",
          "name": "stdout",
          "text": [
            "Resulting Matrix (A * B):\n",
            " [[0.232  0.1627 0.2145]\n",
            " [0.3061 0.4867 0.633 ]\n",
            " [0.1393 0.2261 0.294 ]]\n",
            "\n",
            "Result of element-wise multiplication of second column of result_matrix with C:\n",
            " [0.     0.4867]\n",
            "\n",
            "Result of sub_matrix * D:\n",
            " [[0.1627 0.232 ]\n",
            " [0.4867 0.3061]]\n"
          ]
        }
      ]
    },
    {
      "cell_type": "markdown",
      "source": [
        "\n",
        "### Завдання 4: Транспонування матриць\n",
        "1. Транспонуйте `result_matrix`.\n",
        "2. Зробіть транспонування вектора `vector` і виведіть форму нової структури. Чи бачите ви зміну?\n",
        "3. Використайте операцію `numpy.expand_dims` над вектором `vector` з аргументом axis=1. Запишіть отриманий результат в змінну `column_vector` і виведіть на екран. Порівняйте з `vector`.\n",
        "4. Зробіть транспонування `column_vector`, виведіть результат на екран разом з розмірностями отриманої структури.\n",
        "\n",
        "\n"
      ],
      "metadata": {
        "id": "wohp0_cxSGpl"
      }
    },
    {
      "cell_type": "code",
      "source": [
        "# Task 1: Transpose result_matrix\n",
        "transposed_result_matrix = result_matrix.T\n",
        "print(\"Transposed Result Matrix:\\n\", transposed_result_matrix)\n",
        "\n",
        "# Task 2: Transpose vector and display its shape\n",
        "vector = np.array([0.00536347, 0.60759359, 0.76038058, 0.08194031, 0.55495752,\n",
        "                   0.03772046, 0.31577501, 0.23608649, 0.84148527, 0.63809837])\n",
        "transposed_vector = vector.T\n",
        "print(\"\\nTransposed Vector:\\n\", transposed_vector)\n",
        "print(\"Shape of transposed vector:\", transposed_vector.shape)  # There's no change in shape when transposing a 1D array\n",
        "\n",
        "# Task 3: Use numpy.expand_dims on vector with axis=1\n",
        "column_vector = np.expand_dims(vector, axis=1)\n",
        "print(\"\\nColumn Vector:\\n\", column_vector)\n",
        "print(\"Shape of column vector:\", column_vector.shape)\n",
        "\n",
        "# Task 4: Transpose column_vector and display result with dimensions\n",
        "transposed_column_vector = column_vector.T\n",
        "print(\"\\nTransposed Column Vector:\\n\", transposed_column_vector)\n",
        "print(\"Shape of transposed column vector:\", transposed_column_vector.shape)"
      ],
      "metadata": {
        "id": "4hFcq1baVLii",
        "colab": {
          "base_uri": "https://localhost:8080/"
        },
        "outputId": "931b25e4-c636-446a-c946-9f287d713234"
      },
      "execution_count": 28,
      "outputs": [
        {
          "output_type": "stream",
          "name": "stdout",
          "text": [
            "Transposed Result Matrix:\n",
            " [[0.232  0.3061 0.1393]\n",
            " [0.1627 0.4867 0.2261]\n",
            " [0.2145 0.633  0.294 ]]\n",
            "\n",
            "Transposed Vector:\n",
            " [0.00536347 0.60759359 0.76038058 0.08194031 0.55495752 0.03772046\n",
            " 0.31577501 0.23608649 0.84148527 0.63809837]\n",
            "Shape of transposed vector: (10,)\n",
            "\n",
            "Column Vector:\n",
            " [[0.00536347]\n",
            " [0.60759359]\n",
            " [0.76038058]\n",
            " [0.08194031]\n",
            " [0.55495752]\n",
            " [0.03772046]\n",
            " [0.31577501]\n",
            " [0.23608649]\n",
            " [0.84148527]\n",
            " [0.63809837]]\n",
            "Shape of column vector: (10, 1)\n",
            "\n",
            "Transposed Column Vector:\n",
            " [[0.00536347 0.60759359 0.76038058 0.08194031 0.55495752 0.03772046\n",
            "  0.31577501 0.23608649 0.84148527 0.63809837]]\n",
            "Shape of transposed column vector: (1, 10)\n"
          ]
        }
      ]
    }
  ]
}
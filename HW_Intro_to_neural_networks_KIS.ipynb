{
  "nbformat": 4,
  "nbformat_minor": 0,
  "metadata": {
    "colab": {
      "provenance": [],
      "include_colab_link": true
    },
    "kernelspec": {
      "name": "python3",
      "display_name": "Python 3"
    },
    "language_info": {
      "name": "python"
    }
  },
  "cells": [
    {
      "cell_type": "markdown",
      "metadata": {
        "id": "view-in-github",
        "colab_type": "text"
      },
      "source": [
        "<a href=\"https://colab.research.google.com/github/andrea212023/ML-Kis/blob/main/HW_Intro_to_neural_networks_KIS.ipynb\" target=\"_parent\"><img src=\"https://colab.research.google.com/assets/colab-badge.svg\" alt=\"Open In Colab\"/></a>"
      ]
    },
    {
      "cell_type": "markdown",
      "source": [
        "**Секція 1. Логістична регресія з нуля.**\n",
        "\n",
        "Будемо крок за кроком будувати модель лог регресії з нуля для передбачення, чи буде врожай більше за 80 яблук (задача подібна до лекційної, але на класифікацію).\n",
        "\n",
        "Давайте нагадаємо основні формули для логістичної регресії.\n",
        "\n",
        "### Функція гіпотези - обчислення передбачення у логістичній регресії:\n",
        "\n",
        "$$\n",
        "\\hat{y} = \\sigma(x W^T + b) = \\frac{1}{1 + e^{-(x W^T + b)}}\n",
        "$$\n",
        "\n",
        "Де:\n",
        "- $ \\hat{y} $ — це ймовірність \"позитивного\" класу.\n",
        "- $ x $ — це вектор (або матриця для набору прикладів) вхідних даних.\n",
        "- $ W $ — це вектор (або матриця) вагових коефіцієнтів моделі.\n",
        "- $ b $ — це зміщення (bias).\n",
        "- $ \\sigma(z) $ — це сигмоїдна функція активації.\n",
        "\n",
        "### Як обчислюється сигмоїдна функція:\n",
        "\n",
        "Сигмоїдна функція $ \\sigma(z) $ має вигляд:\n",
        "\n",
        "$$\n",
        "\\sigma(z) = \\frac{1}{1 + e^{-z}}\n",
        "$$\n",
        "\n",
        "Ця функція перетворює будь-яке дійсне значення $ z $ в інтервал від 0 до 1, що дозволяє інтерпретувати вихід як ймовірність для логістичної регресії.\n",
        "\n",
        "### Формула функції втрат для логістичної регресії (бінарна крос-ентропія):\n",
        "\n",
        "Функція втрат крос-ентропії оцінює, наскільки добре модель передбачає класи, порівнюючи передбачені ймовірності $ \\hat{y} $ із справжніми мітками $ y $. Формула наступна:\n",
        "\n",
        "$$\n",
        "L(y, \\hat{y}) = - \\left[ y \\cdot \\log(\\hat{y}) + (1 - y) \\cdot \\log(1 - \\hat{y}) \\right]\n",
        "$$\n",
        "\n",
        "Де:\n",
        "- $ y $ — це справжнє значення (мітка класу, 0 або 1).\n",
        "- $ \\hat{y} $ — це передбачене значення (ймовірність).\n",
        "\n"
      ],
      "metadata": {
        "id": "lbLHTNfSclli"
      }
    },
    {
      "cell_type": "markdown",
      "source": [
        "1.\n",
        "Тут вже наведений код для ініціювання набору даних в форматі numpy. Перетворіть `inputs`, `targets` на `torch` тензори. Виведіть результат на екран."
      ],
      "metadata": {
        "id": "GtOYB-RHfc_r"
      }
    },
    {
      "cell_type": "code",
      "source": [
        "import torch\n",
        "import numpy as np"
      ],
      "metadata": {
        "id": "3BNXSR-VdYKQ"
      },
      "execution_count": 90,
      "outputs": []
    },
    {
      "cell_type": "code",
      "execution_count": 91,
      "metadata": {
        "id": "QLKZ77x4v_-v"
      },
      "outputs": [],
      "source": [
        "# Вхідні дані (temp, rainfall, humidity)\n",
        "inputs = np.array([[73, 67, 43],\n",
        "                   [91, 88, 64],\n",
        "                   [87, 134, 58],\n",
        "                   [102, 43, 37],\n",
        "                   [69, 96, 70]], dtype='float32')\n",
        "\n",
        "# Таргети (apples > 80)\n",
        "targets = np.array([[0],\n",
        "                    [1],\n",
        "                    [1],\n",
        "                    [0],\n",
        "                    [1]], dtype='float32')"
      ]
    },
    {
      "cell_type": "code",
      "source": [
        "# Converting to tensors\n",
        "inputs_tensor = torch.from_numpy(inputs)\n",
        "targets_tensor = torch.from_numpy(targets)\n",
        "\n",
        "# Displaying the result\n",
        "print(\"Inputs Tensor:\", inputs_tensor)\n",
        "print(\"Targets Tensor:\", targets_tensor)"
      ],
      "metadata": {
        "id": "KjoeaDrk6fO7",
        "colab": {
          "base_uri": "https://localhost:8080/"
        },
        "outputId": "5f4f2aa0-263c-4b11-cde8-39c1bbdb3086"
      },
      "execution_count": 92,
      "outputs": [
        {
          "output_type": "stream",
          "name": "stdout",
          "text": [
            "Inputs Tensor: tensor([[ 73.,  67.,  43.],\n",
            "        [ 91.,  88.,  64.],\n",
            "        [ 87., 134.,  58.],\n",
            "        [102.,  43.,  37.],\n",
            "        [ 69.,  96.,  70.]])\n",
            "Targets Tensor: tensor([[0.],\n",
            "        [1.],\n",
            "        [1.],\n",
            "        [0.],\n",
            "        [1.]])\n"
          ]
        }
      ]
    },
    {
      "cell_type": "markdown",
      "source": [
        "2. Ініціюйте ваги `w`, `b` для моделі логістичної регресії потрібної форми зважаючи на розмірності даних випадковими значеннями з нормального розподілу. Лишаю тут код для фіксації `random_seed`."
      ],
      "metadata": {
        "id": "iKzbJKfOgGV8"
      }
    },
    {
      "cell_type": "code",
      "source": [
        "# Fix the random seed for reproducibility\n",
        "torch.random.manual_seed(1)"
      ],
      "metadata": {
        "id": "aXhKw6Tdj1-d",
        "colab": {
          "base_uri": "https://localhost:8080/"
        },
        "outputId": "1bca2b35-2476-43aa-a076-c092853a6e77"
      },
      "execution_count": 93,
      "outputs": [
        {
          "output_type": "execute_result",
          "data": {
            "text/plain": [
              "<torch._C.Generator at 0x7c1806c82f70>"
            ]
          },
          "metadata": {},
          "execution_count": 93
        }
      ]
    },
    {
      "cell_type": "code",
      "source": [
        "# Assuming inputs have 3 features and we have 1 output (logistic regression)\n",
        "\n",
        "# Initialize weights (w) and bias (b)\n",
        "input_size = 3  # Number of input features\n",
        "output_size = 1  # Binary output for logistic regression\n",
        "\n",
        "w = torch.randn(input_size, output_size, requires_grad=True)\n",
        "b = torch.randn(output_size, requires_grad=True)\n",
        "\n",
        "print(\"Weights (w):\", w)\n",
        "print(\"Bias (b):\", b)"
      ],
      "metadata": {
        "id": "eApcB7eb6h9o",
        "colab": {
          "base_uri": "https://localhost:8080/"
        },
        "outputId": "b89ad715-d48b-4e08-f37b-23dfcdae0841"
      },
      "execution_count": 94,
      "outputs": [
        {
          "output_type": "stream",
          "name": "stdout",
          "text": [
            "Weights (w): tensor([[0.6614],\n",
            "        [0.2669],\n",
            "        [0.0617]], requires_grad=True)\n",
            "Bias (b): tensor([0.6213], requires_grad=True)\n"
          ]
        }
      ]
    },
    {
      "cell_type": "markdown",
      "source": [
        "3. Напишіть функцію `model`, яка буде обчислювати функцію гіпотези в логістичній регресії і дозволяти робити передбачення на основі введеного рядка даних і коефіцієнтів в змінних `w`, `b`.\n",
        "\n",
        "  **Важливий момент**, що функція `model` робить обчислення на `torch.tensors`, тож для математичних обчислень використовуємо фукнціонал `torch`, наприклад:\n",
        "  - обчсилення $e^x$: `torch.exp(x)`\n",
        "  - обчсилення $log(x)$: `torch.log(x)`\n",
        "  - обчислення середнього значення вектору `x`: `torch.mean(x)`\n",
        "\n",
        "  Використайте функцію `model` для обчислення передбачень з поточними значеннями `w`, `b`.Виведіть результат обчислень на екран.\n",
        "\n",
        "  Проаналізуйте передбачення. Чи не викликають вони у вас підозр? І якщо викликають, то чим це може бути зумовлено?"
      ],
      "metadata": {
        "id": "nYGxNGTaf5s6"
      }
    },
    {
      "cell_type": "code",
      "source": [
        "# Function to compute the hypothesis for logistic regression\n",
        "def model(x, w, b):\n",
        "    # Calculate the linear combination (x * w + b)\n",
        "    linear_output = torch.matmul(x, w) + b\n",
        "\n",
        "    # Apply the  function to get the logistic regression prediction\n",
        "    y_pred = 1 / (1 + torch.exp(-linear_output))\n",
        "    return y_pred\n",
        "\n",
        "# Calculate predictions using the model\n",
        "predictions  = model(inputs_tensor, w, b)\n",
        "\n",
        "# Output the predictions\n",
        "print(\"Predictions:\", predictions)"
      ],
      "metadata": {
        "id": "pSz2j4Fh6jBv",
        "colab": {
          "base_uri": "https://localhost:8080/"
        },
        "outputId": "1dfba395-35c5-430f-8031-39c49e868b38"
      },
      "execution_count": 95,
      "outputs": [
        {
          "output_type": "stream",
          "name": "stdout",
          "text": [
            "Predictions: tensor([[1.],\n",
            "        [1.],\n",
            "        [1.],\n",
            "        [1.],\n",
            "        [1.]], grad_fn=<MulBackward0>)\n"
          ]
        }
      ]
    },
    {
      "cell_type": "markdown",
      "source": [
        "**Why this happens?**\n",
        "\n",
        "The values in the linear_output tensor are large positive numbers because the dot product x⋅w + b has resulted in these high values, likely due to one or more of the following reasons:\n",
        "\n",
        "1. Large Magnitudes of Weights or Biases (w and b):\n",
        "If the weights (w) and bias (b) were initialized with high values, they can amplify the dot product result.\n",
        "2. Unnormalized Input Data (inputs_tensor):\n",
        "If the input data contains large values and has not been normalized, the multiplication with weights leads to excessively large outputs.\n",
        "3. Combination of Input and Weights:\n",
        "Even if either w or x alone is not large, their combination (dot product) may still result in high values due to their interaction.\n",
        "\n",
        "As a result, the sigmoid function applied to these high positive values outputs probabilities of 1 for all inputs.\n",
        "\n",
        "**Why Saturation is Problematic?**\n",
        "\n",
        "The predictions of 1, 1, 1, 1 are problematic because they resulted from saturation of the sigmoid function due to extremely large positive linear outputs.\n",
        "\n",
        "When the predictions are all 1, the model cannot distinguish between different input samples. This leads to several issues:\n",
        "\n",
        "1. No gradient for learning\n",
        "2. Loss function becomes ineffective\n",
        "3. Lack of meaningful predictions\n"
      ],
      "metadata": {
        "id": "_coxLJ83Ruxv"
      }
    },
    {
      "cell_type": "code",
      "source": [
        "linear_output = torch.matmul(inputs_tensor, w) + b\n",
        "print(\"Linear Output:\", linear_output)\n"
      ],
      "metadata": {
        "colab": {
          "base_uri": "https://localhost:8080/"
        },
        "id": "BD2vlT74QKw5",
        "outputId": "b9455e0a-7cad-4a0e-872f-d11ebba47ba4"
      },
      "execution_count": 96,
      "outputs": [
        {
          "output_type": "stream",
          "name": "stdout",
          "text": [
            "Linear Output: tensor([[69.4361],\n",
            "        [88.2410],\n",
            "        [97.5041],\n",
            "        [81.8390],\n",
            "        [76.1967]], grad_fn=<AddBackward0>)\n"
          ]
        }
      ]
    },
    {
      "cell_type": "code",
      "source": [
        "# Inspect the Input Data\n",
        "print(\"Inputs Tensor Stats:\")\n",
        "print(\"Max Value:\", inputs_tensor.max())\n",
        "print(\"Min Value:\", inputs_tensor.min())\n",
        "print(\"Mean Value:\", inputs_tensor.mean())\n",
        "print(\"Standard Deviation:\", inputs_tensor.std())\n"
      ],
      "metadata": {
        "colab": {
          "base_uri": "https://localhost:8080/"
        },
        "id": "QUfQuxMzQ9ft",
        "outputId": "1734fd7f-1a5f-47ef-906a-6543dfbe08dd"
      },
      "execution_count": 97,
      "outputs": [
        {
          "output_type": "stream",
          "name": "stdout",
          "text": [
            "Inputs Tensor Stats:\n",
            "Max Value: tensor(134.)\n",
            "Min Value: tensor(37.)\n",
            "Mean Value: tensor(74.8000)\n",
            "Standard Deviation: tensor(25.7049)\n"
          ]
        }
      ]
    },
    {
      "cell_type": "code",
      "source": [
        "# Normalize the Input Data\n",
        "inputs_tensor = (inputs_tensor - inputs_tensor.mean(dim=0)) / inputs_tensor.std(dim=0)"
      ],
      "metadata": {
        "id": "nuhP4TSPRADE"
      },
      "execution_count": 98,
      "outputs": []
    },
    {
      "cell_type": "code",
      "source": [
        "# Inspect the Weights and Biases (w and b)\n",
        "print(\"Weights:\", w)\n",
        "print(\"Bias:\", b)"
      ],
      "metadata": {
        "colab": {
          "base_uri": "https://localhost:8080/"
        },
        "id": "hNOsZGNERDPU",
        "outputId": "271eabed-7f6f-4055-a834-75f93d5abad1"
      },
      "execution_count": 99,
      "outputs": [
        {
          "output_type": "stream",
          "name": "stdout",
          "text": [
            "Weights: tensor([[0.6614],\n",
            "        [0.2669],\n",
            "        [0.0617]], requires_grad=True)\n",
            "Bias: tensor([0.6213], requires_grad=True)\n"
          ]
        }
      ]
    },
    {
      "cell_type": "code",
      "source": [
        "# Reinitialize Weights and Biases\n",
        "torch.nn.init.xavier_uniform_(w)\n",
        "b.data.fill_(0.0)"
      ],
      "metadata": {
        "colab": {
          "base_uri": "https://localhost:8080/"
        },
        "id": "lRgg3i7cRF44",
        "outputId": "366b9aad-9120-4123-9767-ebab12eeb6bc"
      },
      "execution_count": 100,
      "outputs": [
        {
          "output_type": "execute_result",
          "data": {
            "text/plain": [
              "tensor([0.])"
            ]
          },
          "metadata": {},
          "execution_count": 100
        }
      ]
    },
    {
      "cell_type": "code",
      "source": [
        "# Rescale the linear output\n",
        "linear_output = torch.clamp(torch.matmul(inputs_tensor, w) + b, min=-10, max=10)\n",
        "print(\"Clamped Linear Output:\", linear_output)"
      ],
      "metadata": {
        "colab": {
          "base_uri": "https://localhost:8080/"
        },
        "id": "VAMUEGqBRJk_",
        "outputId": "7f1752ef-63e9-4c34-cc6c-9602a397d49d"
      },
      "execution_count": 101,
      "outputs": [
        {
          "output_type": "stream",
          "name": "stdout",
          "text": [
            "Clamped Linear Output: tensor([[-0.3390],\n",
            "        [ 0.3061],\n",
            "        [-0.0933],\n",
            "        [-0.0127],\n",
            "        [ 0.1388]], grad_fn=<ClampBackward1>)\n"
          ]
        }
      ]
    },
    {
      "cell_type": "code",
      "source": [
        "# Validate predictions\n",
        "predictions = 1 / (1 + torch.exp(-linear_output))\n",
        "print(\"New Predictions:\", predictions)"
      ],
      "metadata": {
        "colab": {
          "base_uri": "https://localhost:8080/"
        },
        "id": "ppD2maqLRMvC",
        "outputId": "dbfc97a9-75e6-4b6e-e191-3936c3d4a67f"
      },
      "execution_count": 102,
      "outputs": [
        {
          "output_type": "stream",
          "name": "stdout",
          "text": [
            "New Predictions: tensor([[0.4161],\n",
            "        [0.5759],\n",
            "        [0.4767],\n",
            "        [0.4968],\n",
            "        [0.5347]], grad_fn=<MulBackward0>)\n"
          ]
        }
      ]
    },
    {
      "cell_type": "markdown",
      "source": [
        "**Observations regarding New Predictions:**\n",
        "\n",
        "These values look reasonable and are now within the expected range for probabilities outputted by a logistic regression model. Here's why:\n",
        "\n",
        "1. Range of Predictions: The values (e.g., 0.4161, 0.5759, 0.4767, etc.) are between 0 and 1, which is the valid range for probabilities produced by the sigmoid function. This indicates that the linear outputs are now appropriately scaled.\n",
        "2. Diversity in Predictions: The predictions are no longer saturated at 0 or 1, meaning the model is producing varying outputs that reflect differences in the input data. This is a sign of a well-behaved model.\n",
        "\n",
        "**Interpretation:**\n",
        "\n",
        "0.5759: Approximately a 57.6% probability of belonging to the positive class.\n",
        "\n",
        "0.4161: Approximately a 41.6% probability of belonging to the positive class.\n",
        "\n",
        "These values suggest the model can distinguish between different cases.\n",
        "\n",
        "**Conclusion:**\n",
        "These values are normal and indicate that the issues with extreme outputs have been resolved. We can proceed with further evaluation or training.\n",
        "\n",
        "The predictions of 1, 1, 1, 1 were problematic because they resulted from saturation of the sigmoid function due to extremely large positive linear outputs."
      ],
      "metadata": {
        "id": "RPoTwu0xS6xz"
      }
    },
    {
      "cell_type": "markdown",
      "source": [
        "4. Напишіть функцію `binary_cross_entropy`, яка приймає на вхід передбачення моделі `predicted_probs` та справжні мітки в даних `true_labels` і обчислює значення втрат (loss)  за формулою бінарної крос-ентропії для кожного екземпляра та вертає середні втрати по всьому набору даних.\n",
        "  Використайте функцію `binary_cross_entropy` для обчислення втрат для поточних передбачень моделі."
      ],
      "metadata": {
        "id": "O2AGM0Mb2yHa"
      }
    },
    {
      "cell_type": "code",
      "source": [
        "def binary_cross_entropy(predicted_probs, true_labels):\n",
        "    epsilon = 1e-10 # Small value to avoid problem with log(0)\n",
        "    loss = - (true_labels * torch.log(predicted_probs + epsilon) + (1 - true_labels) * torch.log(1 - predicted_probs + epsilon))\n",
        "    return torch.mean(loss)\n",
        "\n",
        "# Calculate the binary cross-entropy loss using 'predictions' and 'targets_tensor'\n",
        "loss = binary_cross_entropy(predictions, targets_tensor)\n",
        "\n",
        "# Output the calculated loss\n",
        "print(\"Binary Cross-Entropy Loss:\", loss.item())"
      ],
      "metadata": {
        "id": "1bWlovvx6kZS",
        "colab": {
          "base_uri": "https://localhost:8080/"
        },
        "outputId": "ee2141a9-49ca-42db-a0d3-3ab228951ec4"
      },
      "execution_count": 103,
      "outputs": [
        {
          "output_type": "stream",
          "name": "stdout",
          "text": [
            "Binary Cross-Entropy Loss: 0.6287156343460083\n"
          ]
        }
      ]
    },
    {
      "cell_type": "markdown",
      "source": [
        "The BCE loss value ranges between 0 (perfect predictions) and ∞ (very poor predictions).\n",
        "\n",
        "**Is 0.6287 reasonable?**\n",
        "\n",
        "For a random model, where model is predicting random probabilities with no meaningful relationship to the labels, the BCE loss will typically hover around log(2) ≈ 0.693. This corresponds to a classifier with 50% accuracy on balanced data.\n",
        "\n",
        "**My loss is 0.6287:**\n",
        "\n",
        "Since 0.6287 < 0.693, the model is performing better than random guessing, which is a good sign, especially if this is during early training."
      ],
      "metadata": {
        "id": "uf0XIla3UdM4"
      }
    },
    {
      "cell_type": "markdown",
      "source": [
        "5. Зробіть зворотнє поширення помилки і виведіть градієнти за параметрами `w`, `b`. Проаналізуйте їх значення. Як гадаєте, чому вони саме такі?"
      ],
      "metadata": {
        "id": "ZFKpQxdHi1__"
      }
    },
    {
      "cell_type": "code",
      "source": [
        "# Perform backpropagation\n",
        "loss.backward()\n",
        "\n",
        "# Output gradients for w and b\n",
        "print(\"Gradients for w:\", w.grad)\n",
        "print(\"Gradients for b:\", b.grad)"
      ],
      "metadata": {
        "id": "YAbXUNSJ6mCl",
        "colab": {
          "base_uri": "https://localhost:8080/"
        },
        "outputId": "dc58b1d3-99be-4e3a-d76a-48cd31f7a6d6"
      },
      "execution_count": 104,
      "outputs": [
        {
          "output_type": "stream",
          "name": "stdout",
          "text": [
            "Gradients for w: tensor([[ 0.1040],\n",
            "        [-0.3537],\n",
            "        [-0.3807]])\n",
            "Gradients for b: tensor([-0.1000])\n"
          ]
        }
      ]
    },
    {
      "cell_type": "markdown",
      "source": [
        "**Why do these values appear?**\n",
        "\n",
        "For example, if w.grad = [[0.1040], [-0.3537], [-0.3807]]:\n",
        "\n",
        "0.1040: Increasing w1 slightly would increase the loss by 0.1040.\n",
        "\n",
        "−0.3537: Increasing w2 slightly would decrease the loss by 0.3537.\n",
        "\n",
        "−0.3807: Increasing w3 slightly would decrease the loss by 0.3807.\n",
        "\n",
        "b.grad = −0.1000 means that increasing b slightly would decrease the loss by 0.1000.\n",
        "\n",
        "**Conclusion:**\n",
        "\n",
        "The values of w.grad and b.grad are reasonable and indicate that the model is learning. They depend on the input data, loss function, predictions, and initialization."
      ],
      "metadata": {
        "id": "EJFWpobpWuf0"
      }
    },
    {
      "cell_type": "markdown",
      "source": [
        "**Що сталось?**\n",
        "\n",
        "В цій задачі, коли ми ініціювали значення випадковими значеннями з нормального розподілу, насправді ці значення не були дуже гарними стартовими значеннями і привели до того, що градієнти стали дуже малими або навіть рівними нулю (це призводить до того, що градієнти \"зникають\"), і відповідно при оновленні ваг у нас не буде нічого змінюватись. Це називається `gradient vanishing`. Це відбувається через **насичення сигмоїдної функції активації.**\n",
        "\n",
        "У нашій задачі ми використовуємо сигмоїдну функцію активації, яка має такий вигляд:\n",
        "\n",
        "   $$\n",
        "   \\sigma(z) = \\frac{1}{1 + e^{-z}}\n",
        "   $$\n",
        "\n",
        "\n",
        "Коли значення $z$ дуже велике або дуже мале, сигмоїдна функція починає \"насичуватись\". Це означає, що для великих позитивних $z$ сигмоїда наближається до 1, а для великих негативних — до 0. В цих діапазонах градієнти починають стрімко зменшуватись і наближаються до нуля (бо градієнт - це похідна, похідна на проміжку функції, де вона паралельна осі ОХ, дорівнює 0), що робить оновлення ваг неможливим.\n",
        "\n",
        "![](https://editor.analyticsvidhya.com/uploads/27889vaegp.png)\n",
        "\n",
        "У логістичній регресії $ z = x \\cdot w + b $. Якщо ваги $w, b$ - великі, значення $z$ також буде великим, і сигмоїда перейде в насичену область, де градієнти дуже малі.\n",
        "\n",
        "Саме це сталося в нашій задачі, де великі випадкові значення ваг викликали насичення сигмоїдної функції. Це в свою чергу призводить до того, що під час зворотного поширення помилки (backpropagation) модель оновлює ваги дуже повільно або зовсім не оновлює. Це називається проблемою **зникнення градієнтів** (gradient vanishing problem).\n",
        "\n",
        "**Що ж робити?**\n",
        "Ініціювати ваги маленькими значеннями навколо нуля. Наприклад ми можемо просто в існуючій ініціалізації ваги розділити на 1000. Можна також використати інший спосіб ініціалізації вагів - інформація про це [тут](https://www.geeksforgeeks.org/initialize-weights-in-pytorch/).\n",
        "\n",
        "Як це робити - показую нижче. **Виконайте код та знову обчисліть передбачення, лосс і виведіть градієнти.**\n",
        "\n",
        "А я пишу пояснення, чому просто не зробити\n",
        "\n",
        "```\n",
        "w = torch.randn(1, 3, requires_grad=True)/1000\n",
        "b = torch.randn(1, requires_grad=True)/1000\n",
        "```\n",
        "\n",
        "Нам потрібно, аби тензори вагів були листовими (leaf tensors).\n",
        "\n",
        "1. **Що таке листовий тензор**\n",
        "Листовий тензор — це тензор, який був створений користувачем безпосередньо і з якого починається обчислювальний граф. Якщо такий тензор має `requires_grad=True`, PyTorch буде відслідковувати всі операції, виконані над ним, щоб правильно обчислювати градієнти під час навчання.\n",
        "\n",
        "2. **Чому ми використовуємо `w.data` замість звичайних операцій**\n",
        "Якщо ми просто виконали б операції, такі як `(w - 0.5) / 100`, ми б отримали **новий тензор**, який вже не був би листовим тензором, оскільки ці операції створюють **новий** тензор, а не модифікують існуючий.\n",
        "\n",
        "  Проте, щоб залишити наші тензори ваги `w` та зміщення `b` листовими і продовжити можливість відстеження градієнтів під час тренування, ми використовуємо атрибут `.data`. Цей атрибут дозволяє **виконувати операції in-place (прямо на існуючому тензорі)** без зміни самого об'єкта тензора. Отже, тензор залишається листовим, і PyTorch може коректно обчислювати його градієнти.\n",
        "\n",
        "3. **Чому важливо залишити тензор листовим**\n",
        "Якщо тензор більше не є листовим (наприклад, через проведення операцій, що створюють нові тензори), ви не зможете отримати градієнти за допомогою `w.grad` чи `b.grad` після виклику `loss.backward()`. Це може призвести до втрати можливості оновлення параметрів під час тренування моделі. В нашому випадку ми хочемо, щоб тензори `w` та `b` накопичували градієнти, тому вони повинні залишатись листовими.\n",
        "\n",
        "**Висновок:**\n",
        "Ми використовуємо `.data`, щоб виконати операції зміни значень на ваги і зміщення **in-place**, залишаючи їх листовими тензорами, які можуть накопичувати градієнти під час навчання. Це дозволяє коректно працювати механізму зворотного поширення помилки (backpropagation) і оновлювати ваги моделі."
      ],
      "metadata": {
        "id": "nDN1t1RujQsK"
      }
    },
    {
      "cell_type": "markdown",
      "source": [
        "5. Виконайте код та знову обчисліть передбачення, лосс і знайдіть градієнти та виведіть всі ці тензори на екран."
      ],
      "metadata": {
        "id": "rOPSQyttpVjO"
      }
    },
    {
      "cell_type": "code",
      "source": [
        "# Set random seed for reproducibility\n",
        "torch.manual_seed(1)\n",
        "\n",
        "# Initialize weights and bias\n",
        "w = torch.randn(3, 1, requires_grad=True)  # Correct shape for weights\n",
        "b = torch.randn(1, requires_grad=True)    # Bias as scalar\n",
        "\n",
        "# Scale weights and bias in-place, preserving leaf tensors\n",
        "w.data = w.data / 1000\n",
        "b.data = b.data / 1000\n",
        "\n",
        "# Compute predictions using the logistic regression model\n",
        "predictions  = model(inputs_tensor, w, b)\n",
        "\n",
        "# Compute the binary cross-entropy loss\n",
        "loss = binary_cross_entropy(predictions, targets_tensor)\n",
        "\n",
        "# Output the calculated loss\n",
        "print(\"Binary Cross-Entropy Loss:\", loss.item())\n",
        "\n",
        "# Perform backpropagation to calculate the gradients\n",
        "loss.backward()\n",
        "\n",
        "# Output the results\n",
        "print(\"Weights after training (w):\", w)\n",
        "print(\"Bias after training (b):\", b)\n",
        "print(\"Gradients for w:\", w.grad)\n",
        "print(\"Gradients for b:\", b.grad)"
      ],
      "metadata": {
        "colab": {
          "base_uri": "https://localhost:8080/"
        },
        "id": "yTZTxGNBZkBR",
        "outputId": "9ec85a32-c0fe-46ba-f3cc-4e1983a49f24"
      },
      "execution_count": 110,
      "outputs": [
        {
          "output_type": "stream",
          "name": "stdout",
          "text": [
            "Binary Cross-Entropy Loss: 0.6930243372917175\n",
            "Weights after training (w): tensor([[6.6135e-04],\n",
            "        [2.6692e-04],\n",
            "        [6.1677e-05]], requires_grad=True)\n",
            "Bias after training (b): tensor([0.0006], requires_grad=True)\n",
            "Gradients for w: tensor([[ 0.0921],\n",
            "        [-0.3602],\n",
            "        [-0.4122]])\n",
            "Gradients for b: tensor([-0.0998])\n"
          ]
        }
      ]
    },
    {
      "cell_type": "markdown",
      "source": [
        "**Observations and conclusion:**\n",
        "1. Loss: The binary cross-entropy loss is 0.693, indicating the model is at a random initialization stage.\n",
        "2. Weights: The weights are small (6.6135e-04), reflecting initial, untuned values.\n",
        "3. Bias: The bias (0.0006) has minimal impact at this stage.\n",
        "4. Gradients: The gradients suggest the second and third features have the most influence on reducing the loss.\n",
        "5. Next Step: Use an optimizer to update the weights and bias, reducing the loss over epochs."
      ],
      "metadata": {
        "id": "xXPQ1-SsaQZY"
      }
    },
    {
      "cell_type": "markdown",
      "source": [
        "6. Напишіть алгоритм градієнтного спуску, який буде навчати модель з використанням написаних раніше функцій і виконуючи оновлення ваг. Алгоритм має включати наступні кроки:\n",
        "\n",
        "  1. Генерація прогнозів\n",
        "  2. Обчислення втрат\n",
        "  3. Обчислення градієнтів (gradients) loss-фукнції відносно ваг і зсувів\n",
        "  4. Налаштування ваг шляхом віднімання невеликої величини, пропорційної градієнту (`learning_rate` домножений на градієнт)\n",
        "  5. Скидання градієнтів на нуль\n",
        "\n",
        "Виконайте градієнтний спуск протягом 1000 епох, обчисліть фінальні передбачення і проаналізуйте, чи вони точні?"
      ],
      "metadata": {
        "id": "RCdi44IT334o"
      }
    },
    {
      "cell_type": "code",
      "source": [
        "# Training parameters\n",
        "learning_rate = 0.0001 # Learning rate\n",
        "num_epochs = 1000     # Number of epochs\n",
        "\n",
        "\n",
        "# Gradient descent training loop\n",
        "for epoch in range(num_epochs):\n",
        "    # 1. Generate predictions\n",
        "    predictions = model(inputs_tensor, w, b)\n",
        "\n",
        "    # 2. Calculate the loss\n",
        "    loss = binary_cross_entropy(predictions, targets_tensor)\n",
        "\n",
        "    # 3. Compute the gradients\n",
        "    loss.backward()\n",
        "\n",
        "    # 4. Update weights (w and b) using the gradients\n",
        "    with torch.no_grad():  # Disable gradient tracking for weight updates\n",
        "        w -= learning_rate * w.grad\n",
        "        b -= learning_rate * b.grad\n",
        "\n",
        "    # 5. Reset the gradients to zero\n",
        "    w.grad.zero_()\n",
        "    b.grad.zero_()\n",
        "\n",
        "    # Print the loss every 100 epochs\n",
        "    if (epoch+1) % 100 == 0:\n",
        "        print(f'Epoch {epoch+1}/{num_epochs}, Loss: {loss.item()}')"
      ],
      "metadata": {
        "id": "mObHPyE06qsO",
        "colab": {
          "base_uri": "https://localhost:8080/"
        },
        "outputId": "a482342a-26c1-4941-c44f-71e5a161f44a"
      },
      "execution_count": 111,
      "outputs": [
        {
          "output_type": "stream",
          "name": "stdout",
          "text": [
            "Epoch 100/1000, Loss: 0.6898547410964966\n",
            "Epoch 200/1000, Loss: 0.6867081522941589\n",
            "Epoch 300/1000, Loss: 0.6835845708847046\n",
            "Epoch 400/1000, Loss: 0.6804836392402649\n",
            "Epoch 500/1000, Loss: 0.6774051189422607\n",
            "Epoch 600/1000, Loss: 0.6743490099906921\n",
            "Epoch 700/1000, Loss: 0.67131507396698\n",
            "Epoch 800/1000, Loss: 0.6683031320571899\n",
            "Epoch 900/1000, Loss: 0.6653130054473877\n",
            "Epoch 1000/1000, Loss: 0.6623445749282837\n"
          ]
        }
      ]
    },
    {
      "cell_type": "code",
      "source": [
        "# Final predictions after 1000 epochs\n",
        "final_predictions = model(inputs_tensor, w, b)\n",
        "print(\"Final predictions after 1000 epochs:\", final_predictions)"
      ],
      "metadata": {
        "colab": {
          "base_uri": "https://localhost:8080/"
        },
        "id": "Kun9hSi5a45R",
        "outputId": "6cb4c5cd-0240-4a5f-8279-7b9feeb67cfe"
      },
      "execution_count": 112,
      "outputs": [
        {
          "output_type": "stream",
          "name": "stdout",
          "text": [
            "Final predictions after 1000 epochs: tensor([[0.4912],\n",
            "        [0.5092],\n",
            "        [0.5175],\n",
            "        [0.4761],\n",
            "        [0.5190]], grad_fn=<MulBackward0>)\n"
          ]
        }
      ]
    },
    {
      "cell_type": "markdown",
      "source": [
        "**Observations and conclusion:**\n",
        "\n",
        "1. Loss Trend: The binary cross-entropy loss steadily decreased from  0.689 at epoch 100 to 0.662 at epoch 1000, indicating gradual improvement in the model's predictions.\n",
        "2. Convergence: The loss reduction slowed significantly after a few hundred epochs, suggesting the model is approaching convergence but not yet fully optimized.\n",
        "3. Final Predictions: The predictions after 1000 epochs are close to 0.5 for all samples, indicating the model struggles to confidently distinguish between the two classes.\n",
        "4. Model Performance: The lack of confident predictions (≈0.5) suggests that the data or features may not provide sufficient separability for effective classification.\n",
        "5. Next Steps: Consider adding more informative features, adjusting hyperparameters (e.g., learning rate), or regularizing to further improve the model's ability to reduce the loss and make confident predictions."
      ],
      "metadata": {
        "id": "d7zmwRktbN8p"
      }
    },
    {
      "cell_type": "markdown",
      "source": [
        "**Секція 2. Створення лог регресії з використанням функціоналу `torch.nn`.**\n",
        "\n",
        "Давайте повторно реалізуємо ту ж модель, використовуючи деякі вбудовані функції та класи з PyTorch.\n",
        "\n",
        "Даних у нас буде побільше - тож, визначаємо нові масиви."
      ],
      "metadata": {
        "id": "fuRhlyF9qAia"
      }
    },
    {
      "cell_type": "code",
      "source": [
        "from torch.utils.data import TensorDataset, DataLoader\n",
        "import torch.nn as nn\n",
        "import torch.optim as optim\n",
        "import torch.nn.functional as F\n",
        "import matplotlib.pyplot as plt"
      ],
      "metadata": {
        "id": "KuYKU3OBblIK"
      },
      "execution_count": 113,
      "outputs": []
    },
    {
      "cell_type": "code",
      "source": [
        "# Вхідні дані (temp, rainfall, humidity)\n",
        "inputs = np.array([[73, 67, 43],\n",
        "                   [91, 88, 64],\n",
        "                   [87, 134, 58],\n",
        "                   [102, 43, 37],\n",
        "                   [69, 96, 70],\n",
        "                   [73, 67, 43],\n",
        "                   [91, 88, 64],\n",
        "                   [87, 134, 58],\n",
        "                   [102, 43, 37],\n",
        "                   [69, 96, 70],\n",
        "                   [73, 67, 43],\n",
        "                   [91, 88, 64],\n",
        "                   [87, 134, 58],\n",
        "                   [102, 43, 37],\n",
        "                   [69, 96, 70]], dtype='float32')\n",
        "\n",
        "# Таргети (apples > 80)\n",
        "targets = np.array([[0],\n",
        "                    [1],\n",
        "                    [1],\n",
        "                    [0],\n",
        "                    [1],\n",
        "                    [0],\n",
        "                    [1],\n",
        "                    [1],\n",
        "                    [0],\n",
        "                    [1],\n",
        "                    [0],\n",
        "                    [1],\n",
        "                    [1],\n",
        "                    [0],\n",
        "                    [1]], dtype='float32')"
      ],
      "metadata": {
        "id": "IX8Bhm74rV4M"
      },
      "execution_count": 114,
      "outputs": []
    },
    {
      "cell_type": "markdown",
      "source": [
        "7. Завантажте вхідні дані та мітки в PyTorch тензори та з них створіть датасет, який поєднує вхідні дані з мітками, використовуючи клас `TensorDataset`. Виведіть перші 3 елементи в датасеті.\n",
        "\n"
      ],
      "metadata": {
        "id": "7X2dV30KtAPu"
      }
    },
    {
      "cell_type": "code",
      "source": [
        "# Convert data to PyTorch tensors\n",
        "inputs_tensor = torch.from_numpy(inputs)\n",
        "targets_tensor = torch.from_numpy(targets)\n",
        "\n",
        "# Create TensorDataset\n",
        "dataset = TensorDataset(inputs_tensor, targets_tensor)\n",
        "\n",
        "# Print the first three elements of the dataset\n",
        "for i in range(3):\n",
        "    print(f\"Input {i + 1}: {dataset[i][0]}\")\n",
        "    print(f\"Target {i + 1}: {dataset[i][1]}\")"
      ],
      "metadata": {
        "id": "chrvMfBs6vjo",
        "colab": {
          "base_uri": "https://localhost:8080/"
        },
        "outputId": "03a193a0-6bd6-4109-8417-c74909c2c4e0"
      },
      "execution_count": 115,
      "outputs": [
        {
          "output_type": "stream",
          "name": "stdout",
          "text": [
            "Input 1: tensor([73., 67., 43.])\n",
            "Target 1: tensor([0.])\n",
            "Input 2: tensor([91., 88., 64.])\n",
            "Target 2: tensor([1.])\n",
            "Input 3: tensor([ 87., 134.,  58.])\n",
            "Target 3: tensor([1.])\n"
          ]
        }
      ]
    },
    {
      "cell_type": "markdown",
      "source": [
        "8. Визначте data loader з класом **DataLoader** для підготовленого датасету `train_ds`, встановіть розмір батчу на 5 та увімкніть перемішування даних для ефективного навчання моделі. Виведіть перший елемент в дата лоадері."
      ],
      "metadata": {
        "id": "4nMFaa8suOd3"
      }
    },
    {
      "cell_type": "code",
      "source": [
        "# Create DataLoader with batch size 5 and shuffle enabled\n",
        "train_ds = DataLoader(dataset, batch_size=5, shuffle=True)\n",
        "\n",
        "# Get the first batch from the DataLoader\n",
        "for batch in train_ds:\n",
        "    inputs_batch, targets_batch = batch\n",
        "    print(\"First batch inputs:\\n\", inputs_batch)\n",
        "    print(\"First batch targets:\\n\", targets_batch)\n",
        "    break  # We only need to display the first batch"
      ],
      "metadata": {
        "id": "ZCsRo5Mx6wEI",
        "colab": {
          "base_uri": "https://localhost:8080/"
        },
        "outputId": "047eabe4-c524-4b9b-e82c-efb40ddf44a4"
      },
      "execution_count": 116,
      "outputs": [
        {
          "output_type": "stream",
          "name": "stdout",
          "text": [
            "First batch inputs:\n",
            " tensor([[ 73.,  67.,  43.],\n",
            "        [ 91.,  88.,  64.],\n",
            "        [102.,  43.,  37.],\n",
            "        [ 69.,  96.,  70.],\n",
            "        [102.,  43.,  37.]])\n",
            "First batch targets:\n",
            " tensor([[0.],\n",
            "        [1.],\n",
            "        [0.],\n",
            "        [1.],\n",
            "        [0.]])\n"
          ]
        }
      ]
    },
    {
      "cell_type": "markdown",
      "source": [
        "9. Створіть клас `LogReg` для логістичної регресії, наслідуючи модуль `torch.nn.Module` за прикладом в лекції (в частині про FeedForward мережі).\n",
        "\n",
        "  У нас модель складається з лінійної комбінації вхідних значень і застосування фукнції сигмоїда. Тож, нейромережа буде складатись з лінійного шару `nn.Linear` і використання активації `nn.Sigmid`. У створеному класі мають бути реалізовані методи `__init__` з ініціалізацією шарів і метод `forward` для виконання прямого проходу моделі через лінійний шар і функцію активації.\n",
        "\n",
        "  Створіть екземпляр класу `LogReg` в змінній `model`."
      ],
      "metadata": {
        "id": "ymcQOo_hum6I"
      }
    },
    {
      "cell_type": "code",
      "source": [
        "# Define the LogReg class for logistic regression\n",
        "class LogReg(nn.Module):\n",
        "    def __init__(self, input_size):\n",
        "        super(LogReg, self).__init__()\n",
        "        # Define a linear layer with input_size input features and 1 output feature\n",
        "        self.linear = nn.Linear(input_size, 1)\n",
        "        # Sigmoid activation function for logistic regression\n",
        "        self.sigmoid = nn.Sigmoid()\n",
        "\n",
        "    # Forward pass through the network\n",
        "    def forward(self, x):\n",
        "        # Apply the linear layer\n",
        "        x = self.linear(x)\n",
        "        # Apply sigmoid activation function\n",
        "        x = self.sigmoid(x)\n",
        "        return x\n",
        ""
      ],
      "metadata": {
        "id": "EyAwhTBW6xxz"
      },
      "execution_count": 118,
      "outputs": []
    },
    {
      "cell_type": "markdown",
      "source": [
        "**Conclusion:**\n",
        "\n",
        "In the lecture example, a two-layer network with two linear layers and activation between them is used. For logistic regression, we use only one linear layer for simplicity. We add the Sigmoid activation function to convert the linear combination into a probability (0 to 1 range). The forward pass applies the linear layer to the input data, followed by the activation function to get the result.\n",
        "\n",
        "This sets up and displays the architecture of the logistic regression model (LogReg) defined earlier.\n"
      ],
      "metadata": {
        "id": "BFy367ZmdIBk"
      }
    },
    {
      "cell_type": "code",
      "source": [
        "# Instantiate the LogReg model\n",
        "input_size = 3  # We have 3 input features (temp, rainfall, humidity)\n",
        "model = LogReg(input_size)\n",
        "\n",
        "# Display the model architecture\n",
        "print(model)\n",
        ""
      ],
      "metadata": {
        "colab": {
          "base_uri": "https://localhost:8080/"
        },
        "id": "Z_QeplfDc87-",
        "outputId": "fbbf8919-1f24-4328-fd2d-a9fb6f4a3e10"
      },
      "execution_count": 119,
      "outputs": [
        {
          "output_type": "stream",
          "name": "stdout",
          "text": [
            "LogReg(\n",
            "  (linear): Linear(in_features=3, out_features=1, bias=True)\n",
            "  (sigmoid): Sigmoid()\n",
            ")\n"
          ]
        }
      ]
    },
    {
      "cell_type": "markdown",
      "source": [
        "10. Задайте оптимізатор `Stockastic Gradient Descent` в змінній `opt` для навчання моделі логістичної регресії. А також визначіть в змінній `loss` функцію втрат `binary_cross_entropy` з модуля `torch.nn.functional` для обчислення втрат моделі. Обчисліть втрати для поточних передбачень і міток, а потім виведіть їх. Зробіть висновок, чи моделі вдалось навчитись?"
      ],
      "metadata": {
        "id": "RflV7xeVyoJy"
      }
    },
    {
      "cell_type": "code",
      "source": [
        "# Define the optimizer Stochastic Gradient Descent (SGD)\n",
        "opt = optim.SGD(model.parameters(), lr=0.001)\n",
        "\n",
        "# Define the binary cross-entropy loss function\n",
        "def binary_cross_entropy_loss(predictions, targets):\n",
        "    return F.binary_cross_entropy(predictions, targets)\n",
        "\n",
        "# Get model predictions\n",
        "predictions = model(inputs_tensor)\n",
        "\n",
        "# Calculate the loss\n",
        "loss = binary_cross_entropy_loss(predictions, targets_tensor)\n",
        "\n",
        "# Output the loss\n",
        "print(f\"Binary Cross-Entropy Loss: {loss.item()}\")"
      ],
      "metadata": {
        "id": "3QCATPU_6yfa",
        "colab": {
          "base_uri": "https://localhost:8080/"
        },
        "outputId": "389d5606-cda2-40fd-cdb6-a197671d5f11"
      },
      "execution_count": 120,
      "outputs": [
        {
          "output_type": "stream",
          "name": "stdout",
          "text": [
            "Binary Cross-Entropy Loss: 7.631152629852295\n"
          ]
        }
      ]
    },
    {
      "cell_type": "markdown",
      "source": [
        "**Conclusion:**\n",
        "\n",
        "Given the high loss value (7.6311), it indicates that the model has not yet learned well."
      ],
      "metadata": {
        "id": "Vr1opaQPdZgc"
      }
    },
    {
      "cell_type": "markdown",
      "source": [
        "11. Візьміть з лекції функцію для тренування моделі з відстеженням значень втрат і навчіть щойно визначену модель на 1000 епохах. Виведіть після цього графік зміни loss, фінальні передбачення і значення таргетів."
      ],
      "metadata": {
        "id": "ch-WrYnKzMzq"
      }
    },
    {
      "cell_type": "code",
      "source": [
        "# Training function to track the loss values\n",
        "def fit_return_loss(num_epochs, model, loss, opt, train_ds):\n",
        "    losses = []\n",
        "    for epoch in range(num_epochs):\n",
        "        # Initialize a loss accumulator\n",
        "        total_loss = 0\n",
        "\n",
        "        for xb, yb in train_ds:\n",
        "            # Generate predictions\n",
        "            pred = model(xb)\n",
        "\n",
        "            # Calculate the loss\n",
        "            loss = binary_cross_entropy_loss(pred, yb)\n",
        "\n",
        "            # Perform gradient descent\n",
        "            loss.backward()\n",
        "            opt.step()\n",
        "            opt.zero_grad()\n",
        "\n",
        "            # Accumulate the loss\n",
        "            total_loss += loss.item()\n",
        "\n",
        "        # Calculate average loss for the epoch\n",
        "        avg_loss = total_loss / len(train_ds)\n",
        "        losses.append(avg_loss)\n",
        "\n",
        "        # Print the epoch summary every 10 epochs\n",
        "        if (epoch + 1) % 10 == 0:\n",
        "            print(f'Epoch [{epoch+1}/{num_epochs}], Loss: {avg_loss:.4f}')\n",
        "    return losses"
      ],
      "metadata": {
        "id": "cEHQH9qE626k"
      },
      "execution_count": 121,
      "outputs": []
    },
    {
      "cell_type": "code",
      "source": [
        "# Train the model for 1000 epochs\n",
        "num_epochs = 1000\n",
        "losses = fit_return_loss(num_epochs, model, loss, opt, train_ds)"
      ],
      "metadata": {
        "colab": {
          "base_uri": "https://localhost:8080/"
        },
        "id": "KRetruiwdjze",
        "outputId": "17f7a2c6-f46b-4a86-9716-ff1687c86c3b"
      },
      "execution_count": 122,
      "outputs": [
        {
          "output_type": "stream",
          "name": "stdout",
          "text": [
            "Epoch [10/1000], Loss: 2.1457\n",
            "Epoch [20/1000], Loss: 0.4342\n",
            "Epoch [30/1000], Loss: 0.6794\n",
            "Epoch [40/1000], Loss: 0.3671\n",
            "Epoch [50/1000], Loss: 0.2716\n",
            "Epoch [60/1000], Loss: 0.6356\n",
            "Epoch [70/1000], Loss: 0.3086\n",
            "Epoch [80/1000], Loss: 0.1488\n",
            "Epoch [90/1000], Loss: 0.1773\n",
            "Epoch [100/1000], Loss: 0.1438\n",
            "Epoch [110/1000], Loss: 0.2307\n",
            "Epoch [120/1000], Loss: 0.3256\n",
            "Epoch [130/1000], Loss: 0.1093\n",
            "Epoch [140/1000], Loss: 0.1172\n",
            "Epoch [150/1000], Loss: 0.1540\n",
            "Epoch [160/1000], Loss: 0.0905\n",
            "Epoch [170/1000], Loss: 0.0970\n",
            "Epoch [180/1000], Loss: 0.1315\n",
            "Epoch [190/1000], Loss: 0.2552\n",
            "Epoch [200/1000], Loss: 0.0788\n",
            "Epoch [210/1000], Loss: 0.1109\n",
            "Epoch [220/1000], Loss: 0.0828\n",
            "Epoch [230/1000], Loss: 0.0906\n",
            "Epoch [240/1000], Loss: 0.1015\n",
            "Epoch [250/1000], Loss: 0.0768\n",
            "Epoch [260/1000], Loss: 0.0701\n",
            "Epoch [270/1000], Loss: 0.0784\n",
            "Epoch [280/1000], Loss: 0.0686\n",
            "Epoch [290/1000], Loss: 0.0673\n",
            "Epoch [300/1000], Loss: 0.0587\n",
            "Epoch [310/1000], Loss: 0.0688\n",
            "Epoch [320/1000], Loss: 0.0555\n",
            "Epoch [330/1000], Loss: 0.0591\n",
            "Epoch [340/1000], Loss: 0.0668\n",
            "Epoch [350/1000], Loss: 0.0583\n",
            "Epoch [360/1000], Loss: 0.0510\n",
            "Epoch [370/1000], Loss: 0.0601\n",
            "Epoch [380/1000], Loss: 0.0568\n",
            "Epoch [390/1000], Loss: 0.0554\n",
            "Epoch [400/1000], Loss: 0.0487\n",
            "Epoch [410/1000], Loss: 0.0440\n",
            "Epoch [420/1000], Loss: 0.0534\n",
            "Epoch [430/1000], Loss: 0.0500\n",
            "Epoch [440/1000], Loss: 0.0438\n",
            "Epoch [450/1000], Loss: 0.0610\n",
            "Epoch [460/1000], Loss: 0.0438\n",
            "Epoch [470/1000], Loss: 0.0441\n",
            "Epoch [480/1000], Loss: 0.0392\n",
            "Epoch [490/1000], Loss: 0.0573\n",
            "Epoch [500/1000], Loss: 0.0391\n",
            "Epoch [510/1000], Loss: 0.0424\n",
            "Epoch [520/1000], Loss: 0.0357\n",
            "Epoch [530/1000], Loss: 0.0413\n",
            "Epoch [540/1000], Loss: 0.0412\n",
            "Epoch [550/1000], Loss: 0.0358\n",
            "Epoch [560/1000], Loss: 0.0377\n",
            "Epoch [570/1000], Loss: 0.0451\n",
            "Epoch [580/1000], Loss: 0.0341\n",
            "Epoch [590/1000], Loss: 0.0352\n",
            "Epoch [600/1000], Loss: 0.0400\n",
            "Epoch [610/1000], Loss: 0.0341\n",
            "Epoch [620/1000], Loss: 0.0318\n",
            "Epoch [630/1000], Loss: 0.0323\n",
            "Epoch [640/1000], Loss: 0.0344\n",
            "Epoch [650/1000], Loss: 0.0305\n",
            "Epoch [660/1000], Loss: 0.0331\n",
            "Epoch [670/1000], Loss: 0.0301\n",
            "Epoch [680/1000], Loss: 0.0284\n",
            "Epoch [690/1000], Loss: 0.0295\n",
            "Epoch [700/1000], Loss: 0.0289\n",
            "Epoch [710/1000], Loss: 0.0273\n",
            "Epoch [720/1000], Loss: 0.0269\n",
            "Epoch [730/1000], Loss: 0.0277\n",
            "Epoch [740/1000], Loss: 0.0263\n",
            "Epoch [750/1000], Loss: 0.0291\n",
            "Epoch [760/1000], Loss: 0.0298\n",
            "Epoch [770/1000], Loss: 0.0297\n",
            "Epoch [780/1000], Loss: 0.0283\n",
            "Epoch [790/1000], Loss: 0.0256\n",
            "Epoch [800/1000], Loss: 0.0263\n",
            "Epoch [810/1000], Loss: 0.0243\n",
            "Epoch [820/1000], Loss: 0.0265\n",
            "Epoch [830/1000], Loss: 0.0246\n",
            "Epoch [840/1000], Loss: 0.0240\n",
            "Epoch [850/1000], Loss: 0.0240\n",
            "Epoch [860/1000], Loss: 0.0245\n",
            "Epoch [870/1000], Loss: 0.0232\n",
            "Epoch [880/1000], Loss: 0.0225\n",
            "Epoch [890/1000], Loss: 0.0228\n",
            "Epoch [900/1000], Loss: 0.0227\n",
            "Epoch [910/1000], Loss: 0.0240\n",
            "Epoch [920/1000], Loss: 0.0243\n",
            "Epoch [930/1000], Loss: 0.0230\n",
            "Epoch [940/1000], Loss: 0.0213\n",
            "Epoch [950/1000], Loss: 0.0216\n",
            "Epoch [960/1000], Loss: 0.0214\n",
            "Epoch [970/1000], Loss: 0.0226\n",
            "Epoch [980/1000], Loss: 0.0214\n",
            "Epoch [990/1000], Loss: 0.0208\n",
            "Epoch [1000/1000], Loss: 0.0208\n"
          ]
        }
      ]
    },
    {
      "cell_type": "code",
      "source": [
        "# Plot the loss over epochs\n",
        "plt.plot(range(1, num_epochs + 1), losses)\n",
        "plt.xlabel('Epoch')\n",
        "plt.ylabel('Loss')\n",
        "plt.title('Training Loss over Epochs')\n",
        "plt.show()\n",
        ""
      ],
      "metadata": {
        "colab": {
          "base_uri": "https://localhost:8080/",
          "height": 472
        },
        "id": "NLWQpcSFdnZw",
        "outputId": "c13f30d4-9805-4ead-96dc-18e41576eaf0"
      },
      "execution_count": 123,
      "outputs": [
        {
          "output_type": "display_data",
          "data": {
            "text/plain": [
              "<Figure size 640x480 with 1 Axes>"
            ],
            "image/png": "[encoded data removed]"
          },
          "metadata": {}
        }
      ]
    },
    {
      "cell_type": "markdown",
      "source": [
        "**Observations:**\n",
        "\n",
        "Initially, the loss value was quite high (around 20), but it significantly decreased after the first few epochs and stabilized below 0.03 after approximately 200 epochs. This indicates that the model has successfully learned and minimized the error during training.\n",
        "\n",
        "**Conclusion:**\n",
        "\n",
        "The loss plot shows a sharp decline at the start of the training and a gradual stabilization, which is typical for models that effectively learn to find patterns in the data.\n"
      ],
      "metadata": {
        "id": "IPCXtudWdt0X"
      }
    },
    {
      "cell_type": "code",
      "source": [
        "# Final predictions\n",
        "with torch.no_grad():\n",
        "    final_predictions = model(inputs_tensor)\n",
        "    print(\"Final predictions:\\n\", final_predictions)\n",
        "\n",
        "# Print the target values\n",
        "print(\"Target values:\\n\", targets_tensor)"
      ],
      "metadata": {
        "colab": {
          "base_uri": "https://localhost:8080/"
        },
        "id": "ARs6W2uyd2HY",
        "outputId": "16e65a8c-e347-47e2-d82e-aedfb0cc4401"
      },
      "execution_count": 124,
      "outputs": [
        {
          "output_type": "stream",
          "name": "stdout",
          "text": [
            "Final predictions:\n",
            " tensor([[5.7505e-02],\n",
            "        [9.6006e-01],\n",
            "        [9.9962e-01],\n",
            "        [3.4785e-11],\n",
            "        [1.0000e+00],\n",
            "        [5.7505e-02],\n",
            "        [9.6006e-01],\n",
            "        [9.9962e-01],\n",
            "        [3.4785e-11],\n",
            "        [1.0000e+00],\n",
            "        [5.7505e-02],\n",
            "        [9.6006e-01],\n",
            "        [9.9962e-01],\n",
            "        [3.4785e-11],\n",
            "        [1.0000e+00]])\n",
            "Target values:\n",
            " tensor([[0.],\n",
            "        [1.],\n",
            "        [1.],\n",
            "        [0.],\n",
            "        [1.],\n",
            "        [0.],\n",
            "        [1.],\n",
            "        [1.],\n",
            "        [0.],\n",
            "        [1.],\n",
            "        [0.],\n",
            "        [1.],\n",
            "        [1.],\n",
            "        [0.],\n",
            "        [1.]])\n"
          ]
        }
      ]
    },
    {
      "cell_type": "markdown",
      "source": [
        "**Observations:**\n",
        "\n",
        "The final predictions of the model are mostly very close to the target values.\n",
        "\n",
        "For label 0, the prediction is around 0.0575, close to 0.\n",
        "\n",
        "For label 1, the prediction is approximately 0.9996, very close to 1.\n",
        "\n",
        "This shows that the model has learned well to distinguish between the two classes (0 and 1).\n",
        "\n",
        "**Conclusion:**\n",
        "\n",
        "The model successfully reduced the loss during training, with final predictions closely matching the target values. This indicates effective training and accurate predictions, as reflected in the loss graph and final values.\n"
      ],
      "metadata": {
        "id": "Bikv4Xo2d-Or"
      }
    }
  ]
}